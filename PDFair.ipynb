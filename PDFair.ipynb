{
 "cells": [
  {
   "cell_type": "markdown",
   "metadata": {},
   "source": [
    "## TESTING NOTEBOOK FOR REPAIRING PDF'S"
   ]
  },
  {
   "cell_type": "code",
   "execution_count": 3,
   "metadata": {},
   "outputs": [],
   "source": [
    "from pathlib import Path\n",
    "import deepdoctection as dd\n",
    "import spacy\n"
   ]
  },
  {
   "cell_type": "code",
   "execution_count": 4,
   "metadata": {},
   "outputs": [
    {
     "name": "stderr",
     "output_type": "stream",
     "text": [
      "/home/marty/miniconda3/envs/PDFair/lib/python3.9/site-packages/tqdm/auto.py:22: TqdmWarning: IProgress not found. Please update jupyter and ipywidgets. See https://ipywidgets.readthedocs.io/en/stable/user_install.html\n",
      "  from .autonotebook import tqdm as notebook_tqdm\n",
      "\u001b[32m[0215 12:28.52 @dd.py:422]\u001b[0m  \u001b[32mINF\u001b[0m  \u001b[97mConfig: \n",
      " {'DEVICE': 'cpu',\n",
      " 'LANGUAGE': 'nld',\n",
      " 'LAYOUT_NMS_PAIRS': {'COMBINATIONS': None, 'PRIORITY': None, 'THRESHOLDS': None},\n",
      " 'LIB': 'PT',\n",
      " 'OCR': {'CONFIG': {'TESSERACT': 'dd/conf_tesseract.yaml'},\n",
      "         'USE_DOCTR': False,\n",
      "         'USE_TESSERACT': True,\n",
      "         'USE_TEXTRACT': False,\n",
      "         'WEIGHTS': {'DOCTR_RECOGNITION': {'PT': 'doctr/crnn_vgg16_bn/pt/crnn_vgg16_bn-9762b0b0.pt',\n",
      "                                           'TF': 'doctr/crnn_vgg16_bn/tf/crnn_vgg16_bn-76b7f2c6.zip'},\n",
      "                     'DOCTR_WORD': {'PT': 'doctr/db_resnet50/pt/db_resnet50-ac60cadc.pt',\n",
      "                                    'TF': 'doctr/db_resnet50/tf/db_resnet50-adcafc63.zip'}}},\n",
      " 'PT': {'CELL': {'FILTER': None,\n",
      "                 'WEIGHTS': 'cell/d2_model_1849999_cell_inf_only.pt',\n",
      "                 'WEIGHTS_TS': 'cell/d2_model_1849999_cell_inf_only.ts'},\n",
      "        'ITEM': {'FILTER': None,\n",
      "                 'PAD': {'BOTTOM': 60, 'LEFT': 60, 'RIGHT': 60, 'TOP': 60},\n",
      "                 'WEIGHTS': 'item/d2_model_1639999_item_inf_only.pt',\n",
      "                 'WEIGHTS_TS': 'item/d2_model_1639999_item_inf_only.ts'},\n",
      "        'LAYOUT': {'FILTER': None,\n",
      "                   'PAD': {'BOTTOM': 60, 'LEFT': 60, 'RIGHT': 60, 'TOP': 60},\n",
      "                   'WEIGHTS': 'layout/d2_model_0829999_layout_inf_only.pt',\n",
      "                   'WEIGHTS_TS': 'layout/d2_model_0829999_layout_inf_only.ts'}},\n",
      " 'SEGMENTATION': {'ASSIGNMENT_RULE': 'ioa',\n",
      "                  'CELL_CATEGORY_ID': 12,\n",
      "                  'FULL_TABLE_TILING': True,\n",
      "                  'REMOVE_IOU_THRESHOLD_COLS': 0.001,\n",
      "                  'REMOVE_IOU_THRESHOLD_ROWS': 0.001,\n",
      "                  'STRETCH_RULE': 'equal',\n",
      "                  'THRESHOLD_COLS': 0.4,\n",
      "                  'THRESHOLD_ROWS': 0.4},\n",
      " 'TEXT_ORDERING': {'BROKEN_LINE_TOLERANCE': 0.003,\n",
      "                   'FLOATING_TEXT_BLOCK_CATEGORIES': ['title', 'text', 'list'],\n",
      "                   'HEIGHT_TOLERANCE': 2.0,\n",
      "                   'INCLUDE_RESIDUAL_TEXT_CONTAINER': True,\n",
      "                   'PARAGRAPH_BREAK': 0.035,\n",
      "                   'STARTING_POINT_TOLERANCE': 0.005,\n",
      "                   'TEXT_BLOCK_CATEGORIES': ['title', 'text', 'list', 'cell', 'column_header',\n",
      "                                             'projected_row_header', 'spanning', 'row_header']},\n",
      " 'TF': {'CELL': {'FILTER': None, 'WEIGHTS': 'cell/model-1800000_inf_only.data-00000-of-00001'},\n",
      "        'ITEM': {'FILTER': None, 'WEIGHTS': 'item/model-1620000_inf_only.data-00000-of-00001'},\n",
      "        'LAYOUT': {'FILTER': None, 'WEIGHTS': 'layout/model-800000_inf_only.data-00000-of-00001'}},\n",
      " 'USE_LAYOUT': True,\n",
      " 'USE_OCR': True,\n",
      " 'USE_PDF_MINER': False,\n",
      " 'USE_TABLE_REFINEMENT': True,\n",
      " 'USE_TABLE_SEGMENTATION': True,\n",
      " 'WORD_MATCHING': {'MAX_PARENT_ONLY': True,\n",
      "                   'PARENTAL_CATEGORIES': ['text', 'title', 'list', 'cell', 'column_header',\n",
      "                                           'projected_row_header', 'spanning', 'row_header'],\n",
      "                   'RULE': 'ioa',\n",
      "                   'THRESHOLD': 0.6}}\u001b[0m\n",
      "\u001b[32m[0215 12:28.52 @model.py:970]\u001b[0m  \u001b[4m\u001b[5m\u001b[31mERR\u001b[0m  \u001b[97mFile downloaded from deepdoctection/d2_casc_rcnn_X_32xd4_50_FPN_GN_2FC_publaynet_inference_only does not match the expected size! You may have downloaded a broken file, or the upstream may have modified the file.\u001b[0m\n",
      "\u001b[32m[0215 12:28.55 @model.py:970]\u001b[0m  \u001b[4m\u001b[5m\u001b[31mERR\u001b[0m  \u001b[97mFile downloaded from deepdoctection/d2_casc_rcnn_X_32xd4_50_FPN_GN_2FC_pubtabnet_rc_inference_only does not match the expected size! You may have downloaded a broken file, or the upstream may have modified the file.\u001b[0m\n",
      "\u001b[32m[0215 12:28.58 @model.py:970]\u001b[0m  \u001b[4m\u001b[5m\u001b[31mERR\u001b[0m  \u001b[97mFile downloaded from deepdoctection/d2_casc_rcnn_X_32xd4_50_FPN_GN_2FC_pubtabnet_c_inference_only does not match the expected size! You may have downloaded a broken file, or the upstream may have modified the file.\u001b[0m\n"
     ]
    }
   ],
   "source": [
    "config_overwrite = [\"LANGUAGE='nld'\",\"TEXT_ORDERING.INCLUDE_RESIDUAL_TEXT_CONTAINER=True\"]\n",
    "analyzer = dd.get_dd_analyzer(config_overwrite=config_overwrite)\n",
    "\n",
    "nlp = spacy.load(\"nl_core_news_sm\")\n"
   ]
  },
  {
   "cell_type": "code",
   "execution_count": 472,
   "metadata": {},
   "outputs": [],
   "source": [
    "FILE = \"evaluation/pdfs/tk-beslisnota-bij-kamerbrief-inzake-verdeelbesluiten\"\n",
    "# FILE = \"evaluation/pdfs/Adviesaanvraag+inzake+de+civiel-militaire+ontwikkelingen+in+het+ruimtedomein.pdf\"\n",
    "\n",
    "path = Path.cwd() / (FILE + \".pdf\")\n",
    "\n",
    "df = analyzer.analyze(path=path)\n"
   ]
  },
  {
   "cell_type": "code",
   "execution_count": 473,
   "metadata": {},
   "outputs": [
    {
     "name": "stderr",
     "output_type": "stream",
     "text": [
      "\u001b[32m[0215 16:07.52 @doctectionpipe.py:84]\u001b[0m  \u001b[32mINF\u001b[0m  \u001b[97mProcessing tk-beslisnota-bij-kamerbrief-inzake-verdeelbesluiten_0.pdf\u001b[0m\n",
      "\u001b[32m[0215 16:07.59 @context.py:126]\u001b[0m  \u001b[32mINF\u001b[0m  \u001b[97mImageLayoutService total: 5.5183 sec.\u001b[0m\n",
      "\u001b[32m[0215 16:07.59 @context.py:126]\u001b[0m  \u001b[32mINF\u001b[0m  \u001b[97mSubImageLayoutService total: 0.0001 sec.\u001b[0m\n",
      "\u001b[32m[0215 16:07.59 @context.py:126]\u001b[0m  \u001b[32mINF\u001b[0m  \u001b[97mSubImageLayoutService total: 0.0001 sec.\u001b[0m\n",
      "\u001b[32m[0215 16:07.59 @context.py:126]\u001b[0m  \u001b[32mINF\u001b[0m  \u001b[97mTableSegmentationService total: 0.0001 sec.\u001b[0m\n",
      "\u001b[32m[0215 16:07.59 @context.py:126]\u001b[0m  \u001b[32mINF\u001b[0m  \u001b[97mTableSegmentationRefinementService total: 0.0 sec.\u001b[0m\n",
      "\u001b[32m[0215 16:08.01 @context.py:126]\u001b[0m  \u001b[32mINF\u001b[0m  \u001b[97mTextExtractionService total: 2.282 sec.\u001b[0m\n",
      "\u001b[32m[0215 16:08.01 @context.py:126]\u001b[0m  \u001b[32mINF\u001b[0m  \u001b[97mMatchingService total: 0.0049 sec.\u001b[0m\n",
      "\u001b[32m[0215 16:08.01 @context.py:126]\u001b[0m  \u001b[32mINF\u001b[0m  \u001b[97mTextOrderService total: 0.0242 sec.\u001b[0m\n",
      "\u001b[32m[0215 16:08.02 @doctectionpipe.py:84]\u001b[0m  \u001b[32mINF\u001b[0m  \u001b[97mProcessing tk-beslisnota-bij-kamerbrief-inzake-verdeelbesluiten_1.pdf\u001b[0m\n",
      "\u001b[32m[0215 16:08.08 @context.py:126]\u001b[0m  \u001b[32mINF\u001b[0m  \u001b[97mImageLayoutService total: 5.5606 sec.\u001b[0m\n",
      "\u001b[32m[0215 16:08.08 @context.py:126]\u001b[0m  \u001b[32mINF\u001b[0m  \u001b[97mSubImageLayoutService total: 0.0001 sec.\u001b[0m\n",
      "\u001b[32m[0215 16:08.08 @context.py:126]\u001b[0m  \u001b[32mINF\u001b[0m  \u001b[97mSubImageLayoutService total: 0.0 sec.\u001b[0m\n",
      "\u001b[32m[0215 16:08.08 @context.py:126]\u001b[0m  \u001b[32mINF\u001b[0m  \u001b[97mTableSegmentationService total: 0.0001 sec.\u001b[0m\n",
      "\u001b[32m[0215 16:08.08 @context.py:126]\u001b[0m  \u001b[32mINF\u001b[0m  \u001b[97mTableSegmentationRefinementService total: 0.0001 sec.\u001b[0m\n",
      "\u001b[32m[0215 16:08.09 @context.py:126]\u001b[0m  \u001b[32mINF\u001b[0m  \u001b[97mTextExtractionService total: 1.153 sec.\u001b[0m\n",
      "\u001b[32m[0215 16:08.09 @context.py:126]\u001b[0m  \u001b[32mINF\u001b[0m  \u001b[97mMatchingService total: 0.0011 sec.\u001b[0m\n",
      "\u001b[32m[0215 16:08.09 @context.py:126]\u001b[0m  \u001b[32mINF\u001b[0m  \u001b[97mTextOrderService total: 0.004 sec.\u001b[0m\n"
     ]
    }
   ],
   "source": [
    "doc = iter(df)\n",
    "pdf = [page for page in doc]\n"
   ]
  },
  {
   "cell_type": "code",
   "execution_count": 474,
   "metadata": {},
   "outputs": [
    {
     "name": "stdout",
     "output_type": "stream",
     "text": [
      " 1 - line  : OA\n",
      " 2 - line  : Tweede Kamer\n",
      " 3 - title : nota\n",
      " 4 - text  : Beslisnota Kamerbrief inzake verdeelbesluiten\n",
      " 5 - title : 1 Aanleiding\n",
      " 6 - text  : Op 31 oktober 2024 ontving u de verslagen van de commissarissen van de Koning in het kader van de ‘Wet gemeentelijke taak mogelijk maken asielopvang- voorzieningen’ (hierna: de wet). Deze heeft u op 1 november jl. aan de Kamer gezonden. In de verslagen doen de commissarissen verslag van het overleg tussen gemeenten, provincie en het COA over de uitvoering van de taken op grond van de wet en geven ze aan hoe de verdeling van reguliere en amv- opvangplaatsen voor de daaropvolgende twee jaren er uit zal zien. Op grond van artikel 5, eerste lid, van de wet neemt u voor 31 december 2024 een verdeelbesluit per provincie. In deze besluiten worden de opvangplaatsen per provincie, zoals bepaald in de provinciale opvangopgave die voor 1 februari van hetzelfde kalenderjaar bekend is gemaakt, verdeeld over de in het besluit aangewezen gemeenten. Met deze Kamerbrief biedt u de 12 provinciale verdeelbesluiten die u heeft genomen aan de Tweede Kamer aan.\n",
      " 7 - list  : 2 Geadviseerd besluit © Kennis te nemen van de Kamerbrief; © De Kamerbrief te ondertekenen; © Akkoord te gaan met verzending van de Kamerbrief.\n",
      " 8 - title : 3 Kernpunten\n",
      " 9 - text  : Op 31 oktober 2024 ontving u de provinciale verslagen van de commissarissen van de Koning in het kader van de wet. Op basis van de verslagen heeft u de verdeelbesluiten genomen, waarbij u, zoals de wet voorschrijft, en conform het eerder aan de Kamer gestuurde beleidskader (Staatscourant 2024, 21380) rekening heeft gehouden met een zo evenwichtig mogelijke verdeling over het grondgebied van Nederland, en waarbij ook zoveel mogelijk rekening is gehouden met de SES-WOA-score op gemeenteniveau, de duur en omvang van eerder geboden asielopvang en de aanwezigheid van bijzondere opvangmodaliteiten binnen de gemeenten en de haalbaarheid en uitvoerbaarheid van het verdeelbesluit.\n",
      "10 - title : 4 Toelichting\n",
      "11 - text  : n.v.t.\n",
      "12 - text  : Directoraat-Generaal Migratie Directie Regie Migratieketen Team Spreidingswet\n",
      "13 - text  : Turfmarkt 147 2511 DP Den Haag Postbus 20011 2500 EH Den Haag www.rijksoverheid.nl/jenv\n",
      "14 - line  : sip Ministerie Asiel Migratie\n",
      "15 - line  : van en\n",
      "16 - title : Datum\n",
      "17 - text  : 23 december 2024\n",
      "18 - text  : Onze referentie\n",
      "19 - text  : 6020836\n",
      "20 - line  : Pagina 1 van 2\n"
     ]
    }
   ],
   "source": [
    "for layout in sorted(pdf[0].layouts, key=lambda x: x.reading_order):\n",
    "    print(f\"{layout.reading_order:2d} - {layout.category_name:5s} : {layout.text}\")\n"
   ]
  },
  {
   "cell_type": "code",
   "execution_count": 475,
   "metadata": {},
   "outputs": [],
   "source": [
    "!pdftotext {FILE+\".pdf\"} -nopgbrk -l 1\n",
    "\n",
    "file = open(FILE+\".txt\")\n",
    "text = file.read()\n",
    "file.close()\n"
   ]
  },
  {
   "cell_type": "code",
   "execution_count": 476,
   "metadata": {},
   "outputs": [],
   "source": [
    "class Word:\n",
    "    def __init__(self, token, text, line, index):\n",
    "        self.token = token\n",
    "        self.text = text\n",
    "\n",
    "        self.line = line\n",
    "        self.index = index\n",
    "\n",
    "        self.missing = 0\n",
    "\n",
    "    def __repr__(self):\n",
    "        return f\"{self.text} = {self.token.text}({self.line}:{self.index}) - missing {self.missing} times.\"\n"
   ]
  },
  {
   "cell_type": "code",
   "execution_count": 477,
   "metadata": {},
   "outputs": [],
   "source": [
    "# PdfToText\n",
    "ptt = {}\n",
    "n = 4    # N-gram (4)\n",
    "\n",
    "def doc_get_word_1(doc):\n",
    "    for token in doc:\n",
    "        if not token.is_punct:\n",
    "            return token\n",
    "    return None\n",
    "\n",
    "tokens = [Word(doc_get_word_1(nlp.make_doc(t)), t, l, i) for l, s in enumerate(text.split(\"\\n\")) for i, t in enumerate(s.split(\" \")) if t]\n",
    "tokens = [t for t in tokens if t.token]\n",
    "\n",
    "ptt['tokens'] = tokens\n",
    "ptt['ngrams'] = {\" \".join(t.token.text for t in tokens[i:i+n]) : tokens[i:i+n] for i in range(len(tokens) - n + 1)}\n"
   ]
  },
  {
   "cell_type": "code",
   "execution_count": 478,
   "metadata": {},
   "outputs": [],
   "source": [
    "# DeepDocTection\n",
    "ddt = {}\n",
    "\n",
    "tokens = [token for token in nlp.make_doc(pdf[0].text.replace(\"\\n\", \" \")) if not token.is_punct]\n",
    "\n",
    "ddt['tokens'] = tokens\n",
    "ddt['ngrams'] = {\" \".join(t.text for t in tokens[i:i+n]) for i in range(len(tokens) - n + 1)}\n"
   ]
  },
  {
   "cell_type": "code",
   "execution_count": 479,
   "metadata": {},
   "outputs": [
    {
     "name": "stdout",
     "output_type": "stream",
     "text": [
      "Tweede = Tweede(0:0) - missing 1 times.\n",
      "Kamer = Kamer(0:1) - missing 1 times.\n",
      "Directoraat-Generaal = Directoraat-Generaal(2:0) - missing 1 times.\n",
      "Migratie = Migratie(3:0) - missing 1 times.\n",
      "Kamer = Kamer(0:1) - missing 2 times.\n",
      "Directoraat-Generaal = Directoraat-Generaal(2:0) - missing 2 times.\n",
      "Migratie = Migratie(3:0) - missing 2 times.\n",
      "Directie = Directie(4:0) - missing 1 times.\n",
      "Den = Den(9:2) - missing 1 times.\n",
      "Haag = Haag(9:3) - missing 1 times.\n",
      "www.rijksoverheid.nl/jenv = www.rijksoverheid.nl/jenv(10:0) - missing 1 times.\n",
      "Beslisnota = Beslisnota(12:0) - missing 1 times.\n",
      "Haag = Haag(9:3) - missing 2 times.\n",
      "www.rijksoverheid.nl/jenv = www.rijksoverheid.nl/jenv(10:0) - missing 2 times.\n",
      "Beslisnota = Beslisnota(12:0) - missing 2 times.\n",
      "Kamerbrief = Kamerbrief(12:1) - missing 1 times.\n",
      "www.rijksoverheid.nl/jenv = www.rijksoverheid.nl/jenv(10:0) - missing 3 times.\n",
      "Beslisnota = Beslisnota(12:0) - missing 3 times.\n",
      "Kamerbrief = Kamerbrief(12:1) - missing 2 times.\n",
      "inzake = inzake(12:2) - missing 1 times.\n",
      "Kamerbrief = Kamerbrief(12:1) - missing 3 times.\n",
      "inzake = inzake(12:2) - missing 2 times.\n",
      "verdeelbesluiten = verdeelbesluiten(12:3) - missing 1 times.\n",
      "Datum = Datum(14:0) - missing 1 times.\n",
      "inzake = inzake(12:2) - missing 3 times.\n",
      "verdeelbesluiten = verdeelbesluiten(12:3) - missing 2 times.\n",
      "Datum = Datum(14:0) - missing 2 times.\n",
      "23 = 23(15:0) - missing 1 times.\n",
      "verdeelbesluiten = verdeelbesluiten(12:3) - missing 3 times.\n",
      "Datum = Datum(14:0) - missing 3 times.\n",
      "23 = 23(15:0) - missing 2 times.\n",
      "december = december(15:1) - missing 1 times.\n",
      "Onze = Onze(16:0) - missing 1 times.\n",
      "referentie = referentie(16:1) - missing 1 times.\n",
      "6020836 = 6020836(17:0) - missing 1 times.\n",
      "1. = 1(19:0) - missing 1 times.\n",
      "referentie = referentie(16:1) - missing 2 times.\n",
      "6020836 = 6020836(17:0) - missing 2 times.\n",
      "1. = 1(19:0) - missing 2 times.\n",
      "Aanleiding = Aanleiding(19:1) - missing 1 times.\n",
      "6020836 = 6020836(17:0) - missing 3 times.\n",
      "1. = 1(19:0) - missing 3 times.\n",
      "Aanleiding = Aanleiding(19:1) - missing 2 times.\n",
      "Op = Op(20:0) - missing 1 times.\n",
      "taak = taak(21:7) - missing 1 times.\n",
      "mogelijk = mogelijk(21:8) - missing 1 times.\n",
      "maken = maken(21:9) - missing 1 times.\n",
      "asielopvangvoorzieningen’ = asielopvangvoorzieningen(21:10) - missing 1 times.\n",
      "mogelijk = mogelijk(21:8) - missing 2 times.\n",
      "maken = maken(21:9) - missing 2 times.\n",
      "asielopvangvoorzieningen’ = asielopvangvoorzieningen(21:10) - missing 2 times.\n",
      "(hierna: = hierna(21:11) - missing 1 times.\n",
      "maken = maken(21:9) - missing 3 times.\n",
      "asielopvangvoorzieningen’ = asielopvangvoorzieningen(21:10) - missing 3 times.\n",
      "(hierna: = hierna(21:11) - missing 2 times.\n",
      "de = de(21:12) - missing 1 times.\n",
      "asielopvangvoorzieningen’ = asielopvangvoorzieningen(21:10) - missing 4 times.\n",
      "(hierna: = hierna(21:11) - missing 3 times.\n",
      "de = de(21:12) - missing 2 times.\n",
      "wet). = wet(21:13) - missing 1 times.\n",
      "van = van(24:11) - missing 1 times.\n",
      "reguliere = reguliere(24:12) - missing 1 times.\n",
      "en = en(24:13) - missing 1 times.\n",
      "amvopvangplaatsen = amvopvangplaatsen(24:14) - missing 1 times.\n",
      "reguliere = reguliere(24:12) - missing 2 times.\n",
      "en = en(24:13) - missing 2 times.\n",
      "amvopvangplaatsen = amvopvangplaatsen(24:14) - missing 2 times.\n",
      "voor = voor(24:15) - missing 1 times.\n",
      "en = en(24:13) - missing 3 times.\n",
      "amvopvangplaatsen = amvopvangplaatsen(24:14) - missing 3 times.\n",
      "voor = voor(24:15) - missing 2 times.\n",
      "de = de(24:16) - missing 1 times.\n",
      "amvopvangplaatsen = amvopvangplaatsen(24:14) - missing 4 times.\n",
      "voor = voor(24:15) - missing 3 times.\n",
      "de = de(24:16) - missing 2 times.\n",
      "daaropvolgende = daaropvolgende(24:17) - missing 1 times.\n",
      "2. = 2(31:0) - missing 1 times.\n",
      "Geadviseerd = Geadviseerd(36:0) - missing 1 times.\n",
      "besluit = besluit(36:1) - missing 1 times.\n",
      "Kennis = Kennis(37:0) - missing 1 times.\n",
      "Geadviseerd = Geadviseerd(36:0) - missing 2 times.\n",
      "besluit = besluit(36:1) - missing 2 times.\n",
      "Kennis = Kennis(37:0) - missing 2 times.\n",
      "te = te(37:1) - missing 1 times.\n",
      "besluit = besluit(36:1) - missing 3 times.\n",
      "Kennis = Kennis(37:0) - missing 3 times.\n",
      "te = te(37:1) - missing 2 times.\n",
      "nemen = nemen(37:2) - missing 1 times.\n",
      "van = van(37:3) - missing 1 times.\n",
      "de = de(37:4) - missing 1 times.\n",
      "Kamerbrief; = Kamerbrief(37:5) - missing 1 times.\n",
      "De = De(38:0) - missing 1 times.\n",
      "de = de(37:4) - missing 2 times.\n",
      "Kamerbrief; = Kamerbrief(37:5) - missing 2 times.\n",
      "De = De(38:0) - missing 2 times.\n",
      "Kamerbrief = Kamerbrief(38:1) - missing 1 times.\n",
      "Kamerbrief; = Kamerbrief(37:5) - missing 3 times.\n",
      "De = De(38:0) - missing 3 times.\n",
      "Kamerbrief = Kamerbrief(38:1) - missing 2 times.\n",
      "te = te(38:2) - missing 1 times.\n",
      "Kamerbrief = Kamerbrief(38:1) - missing 3 times.\n",
      "te = te(38:2) - missing 2 times.\n",
      "ondertekenen; = ondertekenen(38:3) - missing 1 times.\n",
      "Akkoord = Akkoord(39:0) - missing 1 times.\n",
      "te = te(38:2) - missing 3 times.\n",
      "ondertekenen; = ondertekenen(38:3) - missing 2 times.\n",
      "Akkoord = Akkoord(39:0) - missing 2 times.\n",
      "te = te(39:1) - missing 1 times.\n",
      "ondertekenen; = ondertekenen(38:3) - missing 3 times.\n",
      "Akkoord = Akkoord(39:0) - missing 3 times.\n",
      "te = te(39:1) - missing 2 times.\n",
      "gaan = gaan(39:2) - missing 1 times.\n",
      "4. = 4(52:0) - missing 1 times.\n",
      "Toelichting = Toelichting(52:1) - missing 1 times.\n",
      "n.v.t. = n.v.t.(53:0) - missing 1 times.\n",
      "Pagina = Pagina(55:0) - missing 1 times.\n",
      "Toelichting = Toelichting(52:1) - missing 2 times.\n",
      "n.v.t. = n.v.t.(53:0) - missing 2 times.\n",
      "Pagina = Pagina(55:0) - missing 2 times.\n",
      "1 = 1(55:1) - missing 1 times.\n",
      "n.v.t. = n.v.t.(53:0) - missing 3 times.\n",
      "Pagina = Pagina(55:0) - missing 3 times.\n",
      "1 = 1(55:1) - missing 2 times.\n",
      "van = van(55:2) - missing 1 times.\n"
     ]
    }
   ],
   "source": [
    "missing = [ngram for ngram in list(ptt['ngrams'].keys()) if not ngram in ddt['ngrams']]\n",
    "\n",
    "for ngram in missing:\n",
    "    for token in ptt['ngrams'][ngram]:\n",
    "        token.missing += 1\n",
    "        print(token)\n"
   ]
  },
  {
   "cell_type": "code",
   "execution_count": 480,
   "metadata": {},
   "outputs": [],
   "source": [
    "from bs4 import BeautifulSoup\n"
   ]
  },
  {
   "cell_type": "code",
   "execution_count": 481,
   "metadata": {},
   "outputs": [],
   "source": [
    "html = BeautifulSoup(f'<html></html>', 'html.parser')\n",
    "\n",
    "head = html.new_tag(\"head\")\n",
    "title = html.new_tag(\"title\")\n",
    "title.string = f\"Evaluation of {FILE}\"\n",
    "head.append(title)\n",
    "html.html.append(head)\n",
    "    "
   ]
  },
  {
   "cell_type": "code",
   "execution_count": 482,
   "metadata": {},
   "outputs": [],
   "source": [
    "line = 0\n",
    "\n",
    "body = html.new_tag(\"body\")\n",
    "p = html.new_tag(\"p\")\n",
    "\n",
    "colors = [\"white\",\"rgba(255, 255, 0, 0.5)\",\"rgba(255, 166, 0, 0.5)\",\"rgba(255, 0, 0, 0.5)\",\"rgba(139, 0, 0, 0.5)\"]\n",
    "\n",
    "for token in ptt['tokens']:\n",
    "    if token.line != line:\n",
    "        for i in range(token.line - line):\n",
    "            p.append(html.new_tag(\"br\"))\n",
    "        line = token.line\n",
    "\n",
    "    span = html.new_tag(\"span\", style=f\"background-color: {colors[token.missing]};\")\n",
    "    span.string = token.text\n",
    "    p.append(span)\n",
    "\n",
    "body.append(p)\n",
    "html.html.append(body)\n",
    "\n"
   ]
  },
  {
   "cell_type": "code",
   "execution_count": 483,
   "metadata": {},
   "outputs": [],
   "source": [
    "with open(f\"{FILE+'.html'}\", \"w\", encoding=\"utf-8\") as file:\n",
    "    file.write(html.prettify())\n"
   ]
  },
  {
   "cell_type": "markdown",
   "metadata": {},
   "source": [
    "- footnote / links\n",
    "- newline formatting\n",
    "- gemarkeerde tekst wordt verwijderd\n",
    "- lists worden niet correct gehandeld. `e` i.p.v. bullet point \n",
    "- Titels worden vergeten (`Naschrift advies`)"
   ]
  }
 ],
 "metadata": {
  "kernelspec": {
   "display_name": "PDFair",
   "language": "python",
   "name": "python3"
  },
  "language_info": {
   "codemirror_mode": {
    "name": "ipython",
    "version": 3
   },
   "file_extension": ".py",
   "mimetype": "text/x-python",
   "name": "python",
   "nbconvert_exporter": "python",
   "pygments_lexer": "ipython3",
   "version": "3.9.7"
  }
 },
 "nbformat": 4,
 "nbformat_minor": 2
}
