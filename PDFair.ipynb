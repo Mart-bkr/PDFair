{
 "cells": [
  {
   "cell_type": "markdown",
   "metadata": {},
   "source": [
    "## TESTING NOTEBOOK FOR REPAIRING PDF'S"
   ]
  },
  {
   "cell_type": "code",
   "execution_count": null,
   "metadata": {},
   "outputs": [],
   "source": [
    "from pathlib import Path\n",
    "import deepdoctection as dd\n",
    "import spacy\n",
    "from bs4 import BeautifulSoup\n"
   ]
  },
  {
   "cell_type": "code",
   "execution_count": 199,
   "metadata": {},
   "outputs": [
    {
     "name": "stderr",
     "output_type": "stream",
     "text": [
      "\u001b[32m[0222 11:21.49 @dd.py:422]\u001b[0m  \u001b[32mINF\u001b[0m  \u001b[97mConfig: \n",
      " {'DEVICE': 'cpu',\n",
      " 'LANGUAGE': 'nld',\n",
      " 'LAYOUT_NMS_PAIRS': {'COMBINATIONS': None, 'PRIORITY': None, 'THRESHOLDS': None},\n",
      " 'LIB': 'PT',\n",
      " 'OCR': {'CONFIG': {'TESSERACT': 'dd/conf_tesseract.yaml'},\n",
      "         'USE_DOCTR': False,\n",
      "         'USE_TESSERACT': True,\n",
      "         'USE_TEXTRACT': False,\n",
      "         'WEIGHTS': {'DOCTR_RECOGNITION': {'PT': 'doctr/crnn_vgg16_bn/pt/crnn_vgg16_bn-9762b0b0.pt',\n",
      "                                           'TF': 'doctr/crnn_vgg16_bn/tf/crnn_vgg16_bn-76b7f2c6.zip'},\n",
      "                     'DOCTR_WORD': {'PT': 'doctr/db_resnet50/pt/db_resnet50-ac60cadc.pt',\n",
      "                                    'TF': 'doctr/db_resnet50/tf/db_resnet50-adcafc63.zip'}}},\n",
      " 'PT': {'CELL': {'FILTER': None,\n",
      "                 'WEIGHTS': 'cell/d2_model_1849999_cell_inf_only.pt',\n",
      "                 'WEIGHTS_TS': 'cell/d2_model_1849999_cell_inf_only.ts'},\n",
      "        'ITEM': {'FILTER': None,\n",
      "                 'PAD': {'BOTTOM': 60, 'LEFT': 60, 'RIGHT': 60, 'TOP': 60},\n",
      "                 'WEIGHTS': 'item/d2_model_1639999_item_inf_only.pt',\n",
      "                 'WEIGHTS_TS': 'item/d2_model_1639999_item_inf_only.ts'},\n",
      "        'LAYOUT': {'FILTER': None,\n",
      "                   'PAD': {'BOTTOM': 60, 'LEFT': 60, 'RIGHT': 60, 'TOP': 60},\n",
      "                   'WEIGHTS': 'layout/d2_model_0829999_layout_inf_only.pt',\n",
      "                   'WEIGHTS_TS': 'layout/d2_model_0829999_layout_inf_only.ts'}},\n",
      " 'SEGMENTATION': {'ASSIGNMENT_RULE': 'ioa',\n",
      "                  'CELL_CATEGORY_ID': 12,\n",
      "                  'FULL_TABLE_TILING': True,\n",
      "                  'REMOVE_IOU_THRESHOLD_COLS': 0.001,\n",
      "                  'REMOVE_IOU_THRESHOLD_ROWS': 0.001,\n",
      "                  'STRETCH_RULE': 'equal',\n",
      "                  'THRESHOLD_COLS': 0.4,\n",
      "                  'THRESHOLD_ROWS': 0.4},\n",
      " 'TEXT_ORDERING': {'BROKEN_LINE_TOLERANCE': 0.003,\n",
      "                   'FLOATING_TEXT_BLOCK_CATEGORIES': ['title', 'text', 'list'],\n",
      "                   'HEIGHT_TOLERANCE': 2.0,\n",
      "                   'INCLUDE_RESIDUAL_TEXT_CONTAINER': True,\n",
      "                   'PARAGRAPH_BREAK': 0.035,\n",
      "                   'STARTING_POINT_TOLERANCE': 0.005,\n",
      "                   'TEXT_BLOCK_CATEGORIES': ['title', 'text', 'list', 'cell', 'column_header',\n",
      "                                             'projected_row_header', 'spanning', 'row_header']},\n",
      " 'TF': {'CELL': {'FILTER': None, 'WEIGHTS': 'cell/model-1800000_inf_only.data-00000-of-00001'},\n",
      "        'ITEM': {'FILTER': None, 'WEIGHTS': 'item/model-1620000_inf_only.data-00000-of-00001'},\n",
      "        'LAYOUT': {'FILTER': None, 'WEIGHTS': 'layout/model-800000_inf_only.data-00000-of-00001'}},\n",
      " 'USE_LAYOUT': True,\n",
      " 'USE_OCR': True,\n",
      " 'USE_PDF_MINER': False,\n",
      " 'USE_TABLE_REFINEMENT': True,\n",
      " 'USE_TABLE_SEGMENTATION': True,\n",
      " 'WORD_MATCHING': {'MAX_PARENT_ONLY': True,\n",
      "                   'PARENTAL_CATEGORIES': ['text', 'title', 'list', 'cell', 'column_header',\n",
      "                                           'projected_row_header', 'spanning', 'row_header'],\n",
      "                   'RULE': 'ioa',\n",
      "                   'THRESHOLD': 0.6}}\u001b[0m\n"
     ]
    },
    {
     "name": "stderr",
     "output_type": "stream",
     "text": [
      "\u001b[32m[0222 11:21.49 @model.py:970]\u001b[0m  \u001b[4m\u001b[5m\u001b[31mERR\u001b[0m  \u001b[97mFile downloaded from deepdoctection/d2_casc_rcnn_X_32xd4_50_FPN_GN_2FC_publaynet_inference_only does not match the expected size! You may have downloaded a broken file, or the upstream may have modified the file.\u001b[0m\n",
      "\u001b[32m[0222 11:21.51 @model.py:970]\u001b[0m  \u001b[4m\u001b[5m\u001b[31mERR\u001b[0m  \u001b[97mFile downloaded from deepdoctection/d2_casc_rcnn_X_32xd4_50_FPN_GN_2FC_pubtabnet_rc_inference_only does not match the expected size! You may have downloaded a broken file, or the upstream may have modified the file.\u001b[0m\n",
      "\u001b[32m[0222 11:21.54 @model.py:970]\u001b[0m  \u001b[4m\u001b[5m\u001b[31mERR\u001b[0m  \u001b[97mFile downloaded from deepdoctection/d2_casc_rcnn_X_32xd4_50_FPN_GN_2FC_pubtabnet_c_inference_only does not match the expected size! You may have downloaded a broken file, or the upstream may have modified the file.\u001b[0m\n"
     ]
    }
   ],
   "source": [
    "config_overwrite = [\"LANGUAGE='nld'\",\"TEXT_ORDERING.INCLUDE_RESIDUAL_TEXT_CONTAINER=True\"]\n",
    "analyzer = dd.get_dd_analyzer(config_overwrite=config_overwrite)\n",
    "\n",
    "nlp = spacy.load(\"nl_core_news_sm\")\n"
   ]
  },
  {
   "cell_type": "code",
   "execution_count": 299,
   "metadata": {},
   "outputs": [],
   "source": [
    "FILE = \"evaluation/pdfs/tk-beslisnota-bij-kamerbrief-inzake-verdeelbesluiten\"\n",
    "# FILE = \"evaluation/pdfs/Adviesaanvraag+inzake+de+civiel-militaire+ontwikkelingen+in+het+ruimtedomein.pdf\"\n",
    "\n",
    "path = Path.cwd() / (FILE + \".pdf\")\n",
    "\n",
    "df = analyzer.analyze(path=path)\n"
   ]
  },
  {
   "cell_type": "code",
   "execution_count": 300,
   "metadata": {},
   "outputs": [
    {
     "name": "stderr",
     "output_type": "stream",
     "text": [
      "\u001b[32m[0222 13:02.44 @doctectionpipe.py:84]\u001b[0m  \u001b[32mINF\u001b[0m  \u001b[97mProcessing tk-beslisnota-bij-kamerbrief-inzake-verdeelbesluiten_0.pdf\u001b[0m\n"
     ]
    },
    {
     "name": "stderr",
     "output_type": "stream",
     "text": [
      "\u001b[32m[0222 13:02.54 @context.py:126]\u001b[0m  \u001b[32mINF\u001b[0m  \u001b[97mImageLayoutService total: 7.412 sec.\u001b[0m\n",
      "\u001b[32m[0222 13:02.54 @context.py:126]\u001b[0m  \u001b[32mINF\u001b[0m  \u001b[97mSubImageLayoutService total: 0.0001 sec.\u001b[0m\n",
      "\u001b[32m[0222 13:02.54 @context.py:126]\u001b[0m  \u001b[32mINF\u001b[0m  \u001b[97mSubImageLayoutService total: 0.0 sec.\u001b[0m\n",
      "\u001b[32m[0222 13:02.54 @context.py:126]\u001b[0m  \u001b[32mINF\u001b[0m  \u001b[97mTableSegmentationService total: 0.0001 sec.\u001b[0m\n",
      "\u001b[32m[0222 13:02.54 @context.py:126]\u001b[0m  \u001b[32mINF\u001b[0m  \u001b[97mTableSegmentationRefinementService total: 0.0 sec.\u001b[0m\n",
      "\u001b[32m[0222 13:02.56 @context.py:126]\u001b[0m  \u001b[32mINF\u001b[0m  \u001b[97mTextExtractionService total: 2.4387 sec.\u001b[0m\n",
      "\u001b[32m[0222 13:02.56 @context.py:126]\u001b[0m  \u001b[32mINF\u001b[0m  \u001b[97mMatchingService total: 0.0047 sec.\u001b[0m\n",
      "\u001b[32m[0222 13:02.56 @context.py:126]\u001b[0m  \u001b[32mINF\u001b[0m  \u001b[97mTextOrderService total: 0.0284 sec.\u001b[0m\n"
     ]
    }
   ],
   "source": [
    "doc = iter(df)\n",
    "# pdf = [page for page in doc]\n",
    "\n",
    "pdf = [next(doc)]\n"
   ]
  },
  {
   "cell_type": "code",
   "execution_count": 301,
   "metadata": {},
   "outputs": [
    {
     "name": "stdout",
     "output_type": "stream",
     "text": [
      " 1 - line  : OA\n",
      " 2 - line  : Tweede Kamer\n",
      " 3 - title : nota\n",
      " 4 - text  : Beslisnota Kamerbrief inzake verdeelbesluiten\n",
      " 5 - title : 1 Aanleiding\n",
      " 6 - text  : Op 31 oktober 2024 ontving u de verslagen van de commissarissen van de Koning in het kader van de ‘Wet gemeentelijke taak mogelijk maken asielopvang- voorzieningen’ (hierna: de wet). Deze heeft u op 1 november jl. aan de Kamer gezonden. In de verslagen doen de commissarissen verslag van het overleg tussen gemeenten, provincie en het COA over de uitvoering van de taken op grond van de wet en geven ze aan hoe de verdeling van reguliere en amv- opvangplaatsen voor de daaropvolgende twee jaren er uit zal zien. Op grond van artikel 5, eerste lid, van de wet neemt u voor 31 december 2024 een verdeelbesluit per provincie. In deze besluiten worden de opvangplaatsen per provincie, zoals bepaald in de provinciale opvangopgave die voor 1 februari van hetzelfde kalenderjaar bekend is gemaakt, verdeeld over de in het besluit aangewezen gemeenten. Met deze Kamerbrief biedt u de 12 provinciale verdeelbesluiten die u heeft genomen aan de Tweede Kamer aan.\n",
      " 7 - list  : 2 Geadviseerd besluit © Kennis te nemen van de Kamerbrief; © De Kamerbrief te ondertekenen; © Akkoord te gaan met verzending van de Kamerbrief.\n",
      " 8 - title : 3 Kernpunten\n",
      " 9 - text  : Op 31 oktober 2024 ontving u de provinciale verslagen van de commissarissen van de Koning in het kader van de wet. Op basis van de verslagen heeft u de verdeelbesluiten genomen, waarbij u, zoals de wet voorschrijft, en conform het eerder aan de Kamer gestuurde beleidskader (Staatscourant 2024, 21380) rekening heeft gehouden met een zo evenwichtig mogelijke verdeling over het grondgebied van Nederland, en waarbij ook zoveel mogelijk rekening is gehouden met de SES-WOA-score op gemeenteniveau, de duur en omvang van eerder geboden asielopvang en de aanwezigheid van bijzondere opvangmodaliteiten binnen de gemeenten en de haalbaarheid en uitvoerbaarheid van het verdeelbesluit.\n",
      "10 - title : 4 Toelichting\n",
      "11 - text  : n.v.t.\n",
      "12 - text  : Directoraat-Generaal Migratie Directie Regie Migratieketen Team Spreidingswet\n",
      "13 - text  : Turfmarkt 147 2511 DP Den Haag Postbus 20011 2500 EH Den Haag www.rijksoverheid.nl/jenv\n",
      "14 - line  : sip Ministerie Asiel Migratie\n",
      "15 - line  : van en\n",
      "16 - title : Datum\n",
      "17 - text  : 23 december 2024\n",
      "18 - text  : Onze referentie\n",
      "19 - text  : 6020836\n",
      "20 - line  : Pagina 1 van 2\n"
     ]
    }
   ],
   "source": [
    "for layout in sorted(pdf[0].layouts, key=lambda x: x.reading_order):\n",
    "    print(f\"{layout.reading_order:2d} - {layout.category_name:5s} : {layout.text}\")\n",
    "\n",
    "# sorted(pdf[0].layouts, key=lambda x: x.reading_order)[5].text\n"
   ]
  },
  {
   "cell_type": "code",
   "execution_count": 310,
   "metadata": {},
   "outputs": [],
   "source": [
    "!pdftotext {FILE+\".pdf\"} -nopgbrk -l 1\n",
    "\n",
    "file = open(FILE+\".txt\")\n",
    "text = file.read()\n",
    "file.close()\n"
   ]
  },
  {
   "cell_type": "code",
   "execution_count": 311,
   "metadata": {},
   "outputs": [],
   "source": [
    "class Word:\n",
    "    def __init__(self, token, text, line, index):\n",
    "        self.token = token\n",
    "        self.text = text\n",
    "\n",
    "        self.line = line\n",
    "        self.index = index\n",
    "\n",
    "        self.border = 0\n",
    "        self.missing = 0\n",
    "\n",
    "    def __repr__(self):\n",
    "        return f\"{self.text} = 'B'{self.border}({self.line}:{self.index}) - missing {self.missing} times.\"\n"
   ]
  },
  {
   "cell_type": "code",
   "execution_count": 312,
   "metadata": {},
   "outputs": [],
   "source": [
    "# PdfToText\n",
    "ptt = {}\n",
    "n = 4    # 4-gram\n",
    "\n",
    "def doc_get_word_1(doc):\n",
    "    for token in doc:\n",
    "        if not token.is_punct:\n",
    "            return token\n",
    "    return None\n",
    "\n",
    "tokens = [Word(doc_get_word_1(nlp.make_doc(t)), t, l, i) for l, s in enumerate(text.split(\"\\n\")) for i, t in enumerate(s.split(\" \")) if t]\n",
    "tokens = [t for t in tokens if t.token]\n",
    "\n",
    "ptt['tokens'] = tokens\n",
    "ptt['ngrams'] = {\" \".join(t.token.text for t in tokens[i:i+n]) : tokens[i:i+n] for i in range(len(tokens) - n + 1)}\n"
   ]
  },
  {
   "cell_type": "code",
   "execution_count": 313,
   "metadata": {},
   "outputs": [],
   "source": [
    "for i in range(len(ptt['tokens'])):\n",
    "    if i != (len(ptt['tokens']) - 1) and (ptt['tokens'][i+1].line - ptt['tokens'][i].line) > 1:\n",
    "        ptt['tokens'][i].border = 1\n",
    "    if i != 0 and (ptt['tokens'][i].line - ptt['tokens'][i-1].line) > 1:\n",
    "        ptt['tokens'][i].border = 1\n",
    "\n",
    "for i in range(len(ptt['tokens'])):\n",
    "    if any(True if t.border == 1 else False for t in ptt['tokens'][i:i+n-1]) and not ptt['tokens'][i].border:\n",
    "        ptt['tokens'][i].border = 2\n",
    "    if any(True if t.border == 1 else False for t in ptt['tokens'][max(0, i-n+2):i]) and not ptt['tokens'][i].border:\n",
    "        ptt['tokens'][i].border = 2\n",
    "    "
   ]
  },
  {
   "cell_type": "code",
   "execution_count": null,
   "metadata": {},
   "outputs": [],
   "source": [
    "# DeepDocTection\n",
    "ddt = {}\n",
    "\n",
    "banned_tokens = {\"©\"}\n",
    "\n",
    "text = pdf[0].text.replace(\"\\n\", \" \").replace(\"- \", \"\")\n",
    "\n",
    "tokens = [token for token in nlp.make_doc(text) if not token.is_punct and token.text not in banned_tokens]\n",
    "\n",
    "ddt['tokens'] = tokens\n",
    "ddt['ngrams'] = {\" \".join(t.text for t in tokens[i:i+n]) for i in range(len(tokens) - n + 1)}\n"
   ]
  },
  {
   "cell_type": "code",
   "execution_count": null,
   "metadata": {},
   "outputs": [
    {
     "name": "stdout",
     "output_type": "stream",
     "text": [
      "Tweede                         Tweede\n",
      "Kamer                          Kamer\n",
      "Directoraat-Generaal           nota\n",
      "Migratie                       Beslisnota\n",
      "Directie                       Kamerbrief\n",
      "Regie                          inzake\n",
      "Migratieketen                  verdeelbesluiten\n",
      "Team                           1\n",
      "Spreidingswet                  Aanleiding\n",
      "Turfmarkt                      Op\n",
      "147                            31\n",
      "2511                           oktober\n",
      "DP                             2024\n",
      "Den                            ontving\n",
      "Haag                           u\n",
      "Postbus                        de\n",
      "20011                          verslagen\n",
      "2500                           van\n",
      "EH                             de\n",
      "Den                            commissarissen\n",
      "Haag                           van\n",
      "www.rijksoverheid.nl/jenv      de\n",
      "Beslisnota                     Koning\n",
      "Kamerbrief                     in\n",
      "inzake                         het\n",
      "verdeelbesluiten               kader\n",
      "Datum                          van\n",
      "23                             de\n",
      "december                       Wet\n",
      "2024                           gemeentelijke\n"
     ]
    }
   ],
   "source": [
    "def zip_print(zip):\n",
    "    for i,j in zip:\n",
    "        print(f\"{i.token.text:30s} {j}\")\n",
    "\n",
    "zip_print(zip(ptt['tokens'][:30], ddt['tokens'][1:31]))\n"
   ]
  },
  {
   "cell_type": "code",
   "execution_count": 316,
   "metadata": {},
   "outputs": [
    {
     "name": "stdout",
     "output_type": "stream",
     "text": [
      "Tweede = 'B'2(0:0) - missing 1 times.\n",
      "Kamer = 'B'1(0:1) - missing 1 times.\n",
      "Directoraat-Generaal = 'B'1(2:0) - missing 1 times.\n",
      "Migratie = 'B'2(3:0) - missing 1 times.\n",
      "Kamer = 'B'1(0:1) - missing 2 times.\n",
      "Directoraat-Generaal = 'B'1(2:0) - missing 2 times.\n",
      "Migratie = 'B'2(3:0) - missing 2 times.\n",
      "Directie = 'B'2(4:0) - missing 1 times.\n",
      "Den = 'B'2(9:2) - missing 1 times.\n",
      "Haag = 'B'2(9:3) - missing 1 times.\n",
      "www.rijksoverheid.nl/jenv = 'B'1(10:0) - missing 1 times.\n",
      "Beslisnota = 'B'1(12:0) - missing 1 times.\n",
      "Haag = 'B'2(9:3) - missing 2 times.\n",
      "www.rijksoverheid.nl/jenv = 'B'1(10:0) - missing 2 times.\n",
      "Beslisnota = 'B'1(12:0) - missing 2 times.\n",
      "Kamerbrief = 'B'2(12:1) - missing 1 times.\n",
      "www.rijksoverheid.nl/jenv = 'B'1(10:0) - missing 3 times.\n",
      "Beslisnota = 'B'1(12:0) - missing 3 times.\n",
      "Kamerbrief = 'B'2(12:1) - missing 2 times.\n",
      "inzake = 'B'2(12:2) - missing 1 times.\n",
      "Kamerbrief = 'B'2(12:1) - missing 3 times.\n",
      "inzake = 'B'2(12:2) - missing 2 times.\n",
      "verdeelbesluiten = 'B'1(12:3) - missing 1 times.\n",
      "Datum = 'B'1(14:0) - missing 1 times.\n",
      "inzake = 'B'2(12:2) - missing 3 times.\n",
      "verdeelbesluiten = 'B'1(12:3) - missing 2 times.\n",
      "Datum = 'B'1(14:0) - missing 2 times.\n",
      "23 = 'B'2(15:0) - missing 1 times.\n",
      "verdeelbesluiten = 'B'1(12:3) - missing 3 times.\n",
      "Datum = 'B'1(14:0) - missing 3 times.\n",
      "23 = 'B'2(15:0) - missing 2 times.\n",
      "december = 'B'2(15:1) - missing 1 times.\n",
      "Onze = 'B'2(16:0) - missing 1 times.\n",
      "referentie = 'B'2(16:1) - missing 1 times.\n",
      "6020836 = 'B'1(17:0) - missing 1 times.\n",
      "1. = 'B'1(19:0) - missing 1 times.\n",
      "referentie = 'B'2(16:1) - missing 2 times.\n",
      "6020836 = 'B'1(17:0) - missing 2 times.\n",
      "1. = 'B'1(19:0) - missing 2 times.\n",
      "Aanleiding = 'B'2(19:1) - missing 1 times.\n",
      "6020836 = 'B'1(17:0) - missing 3 times.\n",
      "1. = 'B'1(19:0) - missing 3 times.\n",
      "Aanleiding = 'B'2(19:1) - missing 2 times.\n",
      "Op = 'B'2(20:0) - missing 1 times.\n",
      "4. = 'B'2(52:0) - missing 1 times.\n",
      "Toelichting = 'B'2(52:1) - missing 1 times.\n",
      "n.v.t. = 'B'1(53:0) - missing 1 times.\n",
      "Pagina = 'B'1(55:0) - missing 1 times.\n",
      "Toelichting = 'B'2(52:1) - missing 2 times.\n",
      "n.v.t. = 'B'1(53:0) - missing 2 times.\n",
      "Pagina = 'B'1(55:0) - missing 2 times.\n",
      "1 = 'B'2(55:1) - missing 1 times.\n",
      "n.v.t. = 'B'1(53:0) - missing 3 times.\n",
      "Pagina = 'B'1(55:0) - missing 3 times.\n",
      "1 = 'B'2(55:1) - missing 2 times.\n",
      "van = 'B'2(55:2) - missing 1 times.\n"
     ]
    }
   ],
   "source": [
    "missing = [ngram for ngram in list(ptt['ngrams'].keys()) if not ngram in ddt['ngrams']]\n",
    "\n",
    "for ngram in missing:\n",
    "    for token in ptt['ngrams'][ngram]:\n",
    "        token.missing += 1\n",
    "        print(token)\n"
   ]
  },
  {
   "cell_type": "code",
   "execution_count": 318,
   "metadata": {},
   "outputs": [],
   "source": [
    "html = BeautifulSoup(f'<html></html>', 'html.parser')\n",
    "\n",
    "head = html.new_tag(\"head\")\n",
    "title = html.new_tag(\"title\")\n",
    "title.string = f\"Evaluation of {FILE}\"\n",
    "head.append(title)\n",
    "html.html.append(head)\n",
    "    "
   ]
  },
  {
   "cell_type": "code",
   "execution_count": 319,
   "metadata": {},
   "outputs": [],
   "source": [
    "line = 0\n",
    "\n",
    "body = html.new_tag(\"body\")\n",
    "p = html.new_tag(\"p\")\n",
    "\n",
    "colors = [\"white\",\"rgba(255, 255, 0, 0.5)\",\"rgba(255, 166, 0, 0.5)\",\"rgba(255, 0, 0, 0.5)\",\"rgba(139, 0, 0, 0.5)\"]\n",
    "\n",
    "for token in ptt['tokens']:\n",
    "    if token.line != line:\n",
    "        for i in range(token.line - line):\n",
    "            p.append(html.new_tag(\"br\"))\n",
    "        line = token.line\n",
    "\n",
    "    span = html.new_tag(\"span\", style=f\"background-color: {colors[token.missing]}; opacity: {'0.25' if token.border else '1'}\")\n",
    "    span.string = token.text\n",
    "    p.append(span)\n",
    "\n",
    "body.append(p)\n",
    "html.html.append(body)\n",
    "\n"
   ]
  },
  {
   "cell_type": "code",
   "execution_count": 320,
   "metadata": {},
   "outputs": [],
   "source": [
    "with open(f\"{FILE+'.html'}\", \"w\", encoding=\"utf-8\") as file:\n",
    "    file.write(html.prettify())\n"
   ]
  },
  {
   "cell_type": "code",
   "execution_count": null,
   "metadata": {},
   "outputs": [
    {
     "name": "stdout",
     "output_type": "stream",
     "text": [
      "27 mistakes (27/27): 0.0%\n"
     ]
    }
   ],
   "source": [
    "MISTAKES = len([t for t in ptt['tokens'] if t.missing])\n",
    "MISTAKES_BORDER = len([t for t in ptt['tokens'] if t.missing and t.border])\n",
    "\n",
    "print(f\"{MISTAKES} mistakes ({MISTAKES_BORDER}/{MISTAKES}): {((MISTAKES - MISTAKES_BORDER) / MISTAKES * 100):0.1f}%\")\n"
   ]
  }
 ],
 "metadata": {
  "kernelspec": {
   "display_name": "PDFair",
   "language": "python",
   "name": "python3"
  },
  "language_info": {
   "codemirror_mode": {
    "name": "ipython",
    "version": 3
   },
   "file_extension": ".py",
   "mimetype": "text/x-python",
   "name": "python",
   "nbconvert_exporter": "python",
   "pygments_lexer": "ipython3",
   "version": "3.9.7"
  }
 },
 "nbformat": 4,
 "nbformat_minor": 2
}
