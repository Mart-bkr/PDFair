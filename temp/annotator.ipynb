{
 "cells": [
  {
   "cell_type": "code",
   "execution_count": 1,
   "metadata": {},
   "outputs": [],
   "source": [
    "from pdf2image import convert_from_path\n",
    "from os import listdir, makedirs\n",
    "from os.path import exists\n"
   ]
  },
  {
   "cell_type": "code",
   "execution_count": 14,
   "metadata": {},
   "outputs": [],
   "source": [
    "INPUT_PATH = \"annotator\"\n",
    "OUTPUT_PATH = \"header_detection_images\"\n",
    "\n",
    "pdfs = listdir(INPUT_PATH)\n",
    "if not exists(OUTPUT_PATH):\n",
    "    makedirs(OUTPUT_PATH)\n"
   ]
  },
  {
   "cell_type": "code",
   "execution_count": null,
   "metadata": {},
   "outputs": [],
   "source": [
    "pages = {\n",
    "    '2024-0185.pdf': [5, 7, 11, 12],\n",
    "    '2024370135.3 Bijlage 3 Convenant verkeersveiligheidswaarborgen.pdf': [1, 2, 3, 4],\n",
    "    'Advies+Wetsvoorstel+strategisch+personeelsbeleid+en+arbeidsvoorwaarden.pdf': [1, 2],\n",
    "    'Advies-wetsvoorstel-regels-gewezen-bewindspersonen-def..pdf': [1, 6, 7, 8, 10],\n",
    "    'export.pdf': [2, 3, 4, 5],\n",
    "    'Raamconvenant Bijzondere Bijstand bij een Crisis in het Buitenland.pdf': [1, 2, 3],\n",
    "    'Regio Deal Sint Eustatius.pdf': [1, 2, 3],\n",
    "    'Samenvatting+RSJ-advies+reclassenten+met+een+hoog+veiligheidsrisico.pdf': [1, 2, 3],\n",
    "    'Samenvatting+WRRrapport+Opgave+AI_De+nieuwe+systeemtechnologie_NR105.pdf': [1, 2, 6, 7, 8, 16]\n",
    "}\n"
   ]
  },
  {
   "cell_type": "code",
   "execution_count": 17,
   "metadata": {},
   "outputs": [],
   "source": [
    "for pdf in pdfs: \n",
    "    try:\n",
    "        images = convert_from_path(f\"{INPUT_PATH}/{pdf}\")\n",
    "        for i in pages[pdf]:\n",
    "            try:\n",
    "                images[i-1].save(f\"{OUTPUT_PATH}/{pdf.replace('.pdf', f'_{str(i)}.png')}\", 'PNG')\n",
    "            except:\n",
    "                print(f\"{pdf} failed on page {i}\")\n",
    "    except:\n",
    "        print(f\"can't read {pdf}\")\n"
   ]
  }
 ],
 "metadata": {
  "kernelspec": {
   "display_name": "PDFair",
   "language": "python",
   "name": "python3"
  },
  "language_info": {
   "codemirror_mode": {
    "name": "ipython",
    "version": 3
   },
   "file_extension": ".py",
   "mimetype": "text/x-python",
   "name": "python",
   "nbconvert_exporter": "python",
   "pygments_lexer": "ipython3",
   "version": "3.9.7"
  }
 },
 "nbformat": 4,
 "nbformat_minor": 2
}
