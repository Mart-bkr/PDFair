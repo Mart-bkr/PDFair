{
 "cells": [
  {
   "cell_type": "code",
   "execution_count": 1,
   "metadata": {},
   "outputs": [
    {
     "name": "stderr",
     "output_type": "stream",
     "text": [
      "/home/marty/miniconda3/envs/PDFair/lib/python3.9/site-packages/tqdm/auto.py:22: TqdmWarning: IProgress not found. Please update jupyter and ipywidgets. See https://ipywidgets.readthedocs.io/en/stable/user_install.html\n",
      "  from .autonotebook import tqdm as notebook_tqdm\n",
      "\u001b[32m[0403 09:28.44 @dd.py:422]\u001b[0m  \u001b[32mINF\u001b[0m  \u001b[97mConfig: \n",
      " {'DEVICE': 'cpu',\n",
      " 'LANGUAGE': 'nld',\n",
      " 'LAYOUT_NMS_PAIRS': {'COMBINATIONS': None, 'PRIORITY': None, 'THRESHOLDS': None},\n",
      " 'LIB': 'PT',\n",
      " 'OCR': {'CONFIG': {'TESSERACT': 'dd/conf_tesseract.yaml'},\n",
      "         'USE_DOCTR': False,\n",
      "         'USE_TESSERACT': True,\n",
      "         'USE_TEXTRACT': False,\n",
      "         'WEIGHTS': {'DOCTR_RECOGNITION': {'PT': 'doctr/crnn_vgg16_bn/pt/crnn_vgg16_bn-9762b0b0.pt',\n",
      "                                           'TF': 'doctr/crnn_vgg16_bn/tf/crnn_vgg16_bn-76b7f2c6.zip'},\n",
      "                     'DOCTR_WORD': {'PT': 'doctr/db_resnet50/pt/db_resnet50-ac60cadc.pt',\n",
      "                                    'TF': 'doctr/db_resnet50/tf/db_resnet50-adcafc63.zip'}}},\n",
      " 'PT': {'CELL': {'FILTER': None,\n",
      "                 'WEIGHTS': 'cell/d2_model_1849999_cell_inf_only.pt',\n",
      "                 'WEIGHTS_TS': 'cell/d2_model_1849999_cell_inf_only.ts'},\n",
      "        'ITEM': {'FILTER': None,\n",
      "                 'PAD': {'BOTTOM': 60, 'LEFT': 60, 'RIGHT': 60, 'TOP': 60},\n",
      "                 'WEIGHTS': 'item/d2_model_1639999_item_inf_only.pt',\n",
      "                 'WEIGHTS_TS': 'item/d2_model_1639999_item_inf_only.ts'},\n",
      "        'LAYOUT': {'FILTER': None,\n",
      "                   'PAD': {'BOTTOM': 60, 'LEFT': 60, 'RIGHT': 60, 'TOP': 60},\n",
      "                   'WEIGHTS': 'layout/d2_model_0829999_layout_inf_only.pt',\n",
      "                   'WEIGHTS_TS': 'layout/d2_model_0829999_layout_inf_only.ts'}},\n",
      " 'SEGMENTATION': {'ASSIGNMENT_RULE': 'ioa',\n",
      "                  'CELL_CATEGORY_ID': 12,\n",
      "                  'FULL_TABLE_TILING': True,\n",
      "                  'REMOVE_IOU_THRESHOLD_COLS': 0.001,\n",
      "                  'REMOVE_IOU_THRESHOLD_ROWS': 0.001,\n",
      "                  'STRETCH_RULE': 'equal',\n",
      "                  'THRESHOLD_COLS': 0.4,\n",
      "                  'THRESHOLD_ROWS': 0.4},\n",
      " 'TEXT_ORDERING': {'BROKEN_LINE_TOLERANCE': 0.003,\n",
      "                   'FLOATING_TEXT_BLOCK_CATEGORIES': ['title', 'text', 'list'],\n",
      "                   'HEIGHT_TOLERANCE': 2.0,\n",
      "                   'INCLUDE_RESIDUAL_TEXT_CONTAINER': True,\n",
      "                   'PARAGRAPH_BREAK': 0.035,\n",
      "                   'STARTING_POINT_TOLERANCE': 0.005,\n",
      "                   'TEXT_BLOCK_CATEGORIES': ['title', 'text', 'list', 'cell', 'column_header',\n",
      "                                             'projected_row_header', 'spanning', 'row_header']},\n",
      " 'TF': {'CELL': {'FILTER': None, 'WEIGHTS': 'cell/model-1800000_inf_only.data-00000-of-00001'},\n",
      "        'ITEM': {'FILTER': None, 'WEIGHTS': 'item/model-1620000_inf_only.data-00000-of-00001'},\n",
      "        'LAYOUT': {'FILTER': None, 'WEIGHTS': 'layout/model-800000_inf_only.data-00000-of-00001'}},\n",
      " 'USE_LAYOUT': True,\n",
      " 'USE_OCR': True,\n",
      " 'USE_PDF_MINER': True,\n",
      " 'USE_TABLE_REFINEMENT': True,\n",
      " 'USE_TABLE_SEGMENTATION': True,\n",
      " 'WORD_MATCHING': {'MAX_PARENT_ONLY': True,\n",
      "                   'PARENTAL_CATEGORIES': ['text', 'title', 'list', 'cell', 'column_header',\n",
      "                                           'projected_row_header', 'spanning', 'row_header'],\n",
      "                   'RULE': 'ioa',\n",
      "                   'THRESHOLD': 0.6}}\u001b[0m\n",
      "\u001b[32m[0403 09:28.54 @model.py:970]\u001b[0m  \u001b[4m\u001b[5m\u001b[31mERR\u001b[0m  \u001b[97mFile downloaded from deepdoctection/d2_casc_rcnn_X_32xd4_50_FPN_GN_2FC_publaynet_inference_only does not match the expected size! You may have downloaded a broken file, or the upstream may have modified the file.\u001b[0m\n",
      "\u001b[32m[0403 09:29.17 @model.py:970]\u001b[0m  \u001b[4m\u001b[5m\u001b[31mERR\u001b[0m  \u001b[97mFile downloaded from deepdoctection/d2_casc_rcnn_X_32xd4_50_FPN_GN_2FC_pubtabnet_rc_inference_only does not match the expected size! You may have downloaded a broken file, or the upstream may have modified the file.\u001b[0m\n",
      "\u001b[32m[0403 09:29.40 @model.py:970]\u001b[0m  \u001b[4m\u001b[5m\u001b[31mERR\u001b[0m  \u001b[97mFile downloaded from deepdoctection/d2_casc_rcnn_X_32xd4_50_FPN_GN_2FC_pubtabnet_c_inference_only does not match the expected size! You may have downloaded a broken file, or the upstream may have modified the file.\u001b[0m\n"
     ]
    }
   ],
   "source": [
    "import deepdoctection as dd\n",
    "from pathlib import Path\n",
    "import spacy\n",
    "import re\n",
    "\n",
    "config_overwrite = [\"LANGUAGE='nld'\",\n",
    "                    \"TEXT_ORDERING.INCLUDE_RESIDUAL_TEXT_CONTAINER=True\",\n",
    "                    \"USE_PDF_MINER=True\"]\n",
    "analyzer = dd.get_dd_analyzer(config_overwrite=config_overwrite)\n",
    "nlp = spacy.load(\"nl_core_news_sm\")\n",
    "\n",
    "def ocr_pdf(path):\n",
    "    df = analyzer.analyze(path=Path.cwd() / path)\n",
    "\n",
    "    doc = iter(df)\n",
    "\n",
    "    return next(doc)\n"
   ]
  },
  {
   "cell_type": "code",
   "execution_count": 13,
   "metadata": {},
   "outputs": [
    {
     "name": "stderr",
     "output_type": "stream",
     "text": [
      "\u001b[32m[0403 09:37.55 @doctectionpipe.py:84]\u001b[0m  \u001b[32mINF\u001b[0m  \u001b[97mProcessing nl.mnre1010.2e-b.2024.3.doc.1_0.pdf\u001b[0m\n"
     ]
    },
    {
     "name": "stderr",
     "output_type": "stream",
     "text": [
      "\u001b[32m[0403 09:38.05 @context.py:126]\u001b[0m  \u001b[32mINF\u001b[0m  \u001b[97mImageLayoutService total: 8.3715 sec.\u001b[0m\n",
      "\u001b[32m[0403 09:38.05 @context.py:126]\u001b[0m  \u001b[32mINF\u001b[0m  \u001b[97mSubImageLayoutService total: 0.0001 sec.\u001b[0m\n",
      "\u001b[32m[0403 09:38.05 @context.py:126]\u001b[0m  \u001b[32mINF\u001b[0m  \u001b[97mSubImageLayoutService total: 0.0002 sec.\u001b[0m\n",
      "\u001b[32m[0403 09:38.05 @context.py:126]\u001b[0m  \u001b[32mINF\u001b[0m  \u001b[97mTableSegmentationService total: 0.0001 sec.\u001b[0m\n",
      "\u001b[32m[0403 09:38.05 @context.py:126]\u001b[0m  \u001b[32mINF\u001b[0m  \u001b[97mTableSegmentationRefinementService total: 0.0 sec.\u001b[0m\n",
      "\u001b[32m[0403 09:38.05 @context.py:126]\u001b[0m  \u001b[32mINF\u001b[0m  \u001b[97mTextExtractionService total: 0.0803 sec.\u001b[0m\n",
      "\u001b[32m[0403 09:38.05 @context.py:126]\u001b[0m  \u001b[32mINF\u001b[0m  \u001b[97mTextExtractionService total: 0.0001 sec.\u001b[0m\n",
      "\u001b[32m[0403 09:38.05 @context.py:126]\u001b[0m  \u001b[32mINF\u001b[0m  \u001b[97mMatchingService total: 0.0016 sec.\u001b[0m\n",
      "\u001b[32m[0403 09:38.05 @context.py:126]\u001b[0m  \u001b[32mINF\u001b[0m  \u001b[97mTextOrderService total: 0.0102 sec.\u001b[0m\n"
     ]
    }
   ],
   "source": [
    "doc = ocr_pdf(\"BeslisnotaPDFs/nl.mnre1010.2e-b.2024.3.doc.1.pdf\")\n"
   ]
  },
  {
   "cell_type": "code",
   "execution_count": 14,
   "metadata": {},
   "outputs": [],
   "source": [
    "def tokenize(text):\n",
    "    BANNED_TOKENS = {\"©\", \"\\uf0b7\"}\n",
    "\n",
    "    tokens = [token.lower_ for token in nlp.make_doc(re.sub('\\n+', ' ', text)) if not token.is_punct and token.text not in BANNED_TOKENS]\n",
    "\n",
    "    return tokens\n"
   ]
  },
  {
   "cell_type": "code",
   "execution_count": null,
   "metadata": {},
   "outputs": [
    {
     "name": "stdout",
     "output_type": "stream",
     "text": [
      "1: ['aan', 'de', 'minister-president']\n",
      "2: ['kabinet', 'minister-president']\n",
      "3: ['datum']\n",
      "4: ['15', 'januari', '2024']\n",
      "5: ['onze', 'referentie']\n",
      "6: ['4381204']\n",
      "7: ['beslisnota']\n",
      "8: ['beantwoording', 'kamervragen', 'van', 'het', 'lid', 'palmen']\n",
      "9: ['lijnparaaf', 'medeparaaf']\n",
      "10: ['aanleiding', 'kamervragen', 'van', 'het', 'lid', 'palmen', 'nieuw', 'sociaal', 'contract', 'over', 'de', 'opvolging', 'van', 'de', 'aanbevelingen', 'bij', 'het', 'rapport', 'de', 'archivering', 'van', 'chatberichten', 'bij', 'het', 'ministerie', 'van', 'algemene', 'zaken', 'd.d.', '4', 'januari', '2024', 'kenmerk', '2024z00038']\n",
      "11: ['geadviseerd', 'besluit']\n",
      "12: ['ondertekenen', 'en', 'instemmen', 'met', 'verzending']\n",
      "13: ['toelichting']\n",
      "14: ['de', 'rvd', 'is', 'akkoord']\n",
      "15: ['pagina', '1', 'van', '1']\n"
     ]
    }
   ],
   "source": [
    "for layout in sorted(doc.layouts, key=lambda x: x.reading_order):\n",
    "    print(f\"{layout.reading_order}: {tokenize(layout.text)}\")\n"
   ]
  },
  {
   "cell_type": "code",
   "execution_count": null,
   "metadata": {},
   "outputs": [
    {
     "data": {
      "text/plain": [
       "'                                                                                Kabinet Minister-President\\nAan de Minister-President\\n                                                                                Datum\\n                                                                                15 januari 2024\\n\\n                                                                                Onze referentie\\n                                                                                4381204\\n\\n\\n\\n\\nBeslisnota\\n                        Beantwoording Kamervragen van het lid Palmen\\n\\n\\n\\nLijnparaaf              Medeparaaf\\n\\n\\n\\n\\nAanleiding\\nKamervragen van het lid Palmen (Nieuw Sociaal Contract) over de opvolging van\\nde aanbevelingen bij het rapport “De archivering van chatberichten bij het\\nMinisterie van Algemene Zaken” d.d. 4 januari 2024, kenmerk 2024Z00038.\\n\\nGeadviseerd besluit\\nOndertekenen en instemmen met verzending.\\n\\nToelichting\\n-  De RVD is akkoord.\\n\\n\\n\\n\\n                                                                                Pagina 1 van 1\\n'"
      ]
     },
     "execution_count": 51,
     "metadata": {},
     "output_type": "execute_result"
    }
   ],
   "source": [
    "path = \"BeslisnotaPDFs/nl.mnre1010.2e-b.2024.3.doc.1.pdf\"\n",
    "!pdftotext {path} -nopgbrk -l 1 -layout\n",
    "\n",
    "with open(\"BeslisnotaPDFs/nl.mnre1010.2e-b.2024.3.doc.1.txt\") as file:\n",
    "    pdftotext = file.read()\n",
    "\n",
    "pdftotext\n"
   ]
  },
  {
   "cell_type": "code",
   "execution_count": null,
   "metadata": {},
   "outputs": [],
   "source": [
    "pdf = nlp(pdftotext)\n"
   ]
  },
  {
   "cell_type": "code",
   "execution_count": null,
   "metadata": {},
   "outputs": [
    {
     "name": "stdout",
     "output_type": "stream",
     "text": [
      "0: Kabinet Minister-President\n",
      "\n",
      "\n",
      "1: Aan de Minister-President\n",
      "Datum\n",
      "15 januari 2024\n",
      "Onze referentie\n",
      "4381204\n",
      "\n",
      "Beslisnota\n",
      "\n",
      "2: Beantwoording\n",
      "3: Kamervragen van het lid Palmen\n",
      "\n",
      "\n",
      "4: Lijnparaaf\n",
      "\n",
      "\n",
      "5: Medeparaaf\n",
      "\n",
      "Aanleiding\n",
      "Kamervragen van het lid\n",
      "6: Palmen (Nieuw Sociaal Contract)\n",
      "7: over de opvolging van\n",
      "de aanbevelingen bij het rapport\n",
      "8: “\n",
      "9: De archivering van chatberichten bij het\n",
      "Ministerie van Algemene Zaken\n",
      "10: ” d.d. 4 januari 2024, kenmerk 2024Z00038.\n",
      "\n",
      "11: Geadviseerd besluit\n",
      "Ondertekenen en instemmen met verzending.\n",
      "Toelichting\n",
      "\n",
      "12: De RVD is akkoord.\n",
      "\n",
      "\n",
      "13: Pagina 1 van 1\n",
      "\n",
      "\n"
     ]
    }
   ],
   "source": [
    "for i, s in enumerate(pdf.sents):\n",
    "    print(f\"{i}: {s}\")\n"
   ]
  }
 ],
 "metadata": {
  "kernelspec": {
   "display_name": "PDFair",
   "language": "python",
   "name": "python3"
  },
  "language_info": {
   "codemirror_mode": {
    "name": "ipython",
    "version": 3
   },
   "file_extension": ".py",
   "mimetype": "text/x-python",
   "name": "python",
   "nbconvert_exporter": "python",
   "pygments_lexer": "ipython3",
   "version": "3.9.7"
  }
 },
 "nbformat": 4,
 "nbformat_minor": 2
}
