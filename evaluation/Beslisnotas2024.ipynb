{
 "cells": [
  {
   "cell_type": "markdown",
   "metadata": {},
   "source": [
    "# Vandaag\n",
    "\n",
    "## TO-DO:\n",
    "\n",
    "\n",
    "- Reportlab XML ipv eigen html\n",
    "- Brief headers scheiden\n",
    "- Waarom missen er titels\n",
    "\n",
    "## Done:\n",
    "\n",
    "\n",
    "\n"
   ]
  },
  {
   "cell_type": "code",
   "execution_count": null,
   "metadata": {},
   "outputs": [],
   "source": [
    "# df = pd.read_csv(\"Beslisnotas2024.csv\", sep=\";\")\n",
    "# df['foi_fairiscoreVersions'] = df['foi_fairiscoreVersions'].apply(lambda x: int(x[-2]))\n",
    "\n",
    "# df['mistakes'] = 0\n",
    "\n",
    "# Page1Fairi1 = df[(df['foi_nrPages'] == 1) & (df['foi_fairiscoreVersions'] == 1)]\n"
   ]
  },
  {
   "cell_type": "code",
   "execution_count": 1,
   "metadata": {},
   "outputs": [
    {
     "name": "stderr",
     "output_type": "stream",
     "text": [
      "\u001b[32m[0530 15:13.59 @utils.py:161]\u001b[0m  \u001b[32mINF\u001b[0m  \u001b[97mNumExpr defaulting to 16 threads.\u001b[0m\n",
      "/home/marty/miniconda3/envs/deepdoc2/lib/python3.9/site-packages/tqdm/auto.py:21: TqdmWarning: IProgress not found. Please update jupyter and ipywidgets. See https://ipywidgets.readthedocs.io/en/stable/user_install.html\n",
      "  from .autonotebook import tqdm as notebook_tqdm\n",
      "\u001b[32m[0530 15:14.01 @dd.py:422]\u001b[0m  \u001b[32mINF\u001b[0m  \u001b[97mConfig: \n",
      " {'DEVICE': 'cpu',\n",
      " 'LANGUAGE': 'nld',\n",
      " 'LAYOUT_NMS_PAIRS': {'COMBINATIONS': None, 'PRIORITY': None, 'THRESHOLDS': None},\n",
      " 'LIB': 'PT',\n",
      " 'OCR': {'CONFIG': {'TESSERACT': 'dd/conf_tesseract.yaml'},\n",
      "         'USE_DOCTR': False,\n",
      "         'USE_TESSERACT': True,\n",
      "         'USE_TEXTRACT': False,\n",
      "         'WEIGHTS': {'DOCTR_RECOGNITION': {'PT': 'doctr/crnn_vgg16_bn/pt/crnn_vgg16_bn-9762b0b0.pt',\n",
      "                                           'TF': 'doctr/crnn_vgg16_bn/tf/crnn_vgg16_bn-76b7f2c6.zip'},\n",
      "                     'DOCTR_WORD': {'PT': 'doctr/db_resnet50/pt/db_resnet50-ac60cadc.pt',\n",
      "                                    'TF': 'doctr/db_resnet50/tf/db_resnet50-adcafc63.zip'}}},\n",
      " 'PT': {'CELL': {'FILTER': None,\n",
      "                 'WEIGHTS': 'cell/d2_model_1849999_cell_inf_only.pt',\n",
      "                 'WEIGHTS_TS': 'cell/d2_model_1849999_cell_inf_only.ts'},\n",
      "        'ITEM': {'FILTER': None,\n",
      "                 'PAD': {'BOTTOM': 60, 'LEFT': 60, 'RIGHT': 60, 'TOP': 60},\n",
      "                 'WEIGHTS': 'item/d2_model_1639999_item_inf_only.pt',\n",
      "                 'WEIGHTS_TS': 'item/d2_model_1639999_item_inf_only.ts'},\n",
      "        'LAYOUT': {'FILTER': None,\n",
      "                   'PAD': {'BOTTOM': 60, 'LEFT': 60, 'RIGHT': 60, 'TOP': 60},\n",
      "                   'WEIGHTS': 'layout/d2_model_0829999_layout_inf_only.pt',\n",
      "                   'WEIGHTS_TS': 'layout/d2_model_0829999_layout_inf_only.ts'}},\n",
      " 'SEGMENTATION': {'ASSIGNMENT_RULE': 'ioa',\n",
      "                  'CELL_CATEGORY_ID': 12,\n",
      "                  'FULL_TABLE_TILING': True,\n",
      "                  'REMOVE_IOU_THRESHOLD_COLS': 0.001,\n",
      "                  'REMOVE_IOU_THRESHOLD_ROWS': 0.001,\n",
      "                  'STRETCH_RULE': 'equal',\n",
      "                  'THRESHOLD_COLS': 0.4,\n",
      "                  'THRESHOLD_ROWS': 0.4},\n",
      " 'TEXT_ORDERING': {'BROKEN_LINE_TOLERANCE': 0.003,\n",
      "                   'FLOATING_TEXT_BLOCK_CATEGORIES': ['title', 'text', 'list'],\n",
      "                   'HEIGHT_TOLERANCE': 2.0,\n",
      "                   'INCLUDE_RESIDUAL_TEXT_CONTAINER': True,\n",
      "                   'PARAGRAPH_BREAK': 0.035,\n",
      "                   'STARTING_POINT_TOLERANCE': 0.005,\n",
      "                   'TEXT_BLOCK_CATEGORIES': ['title', 'text', 'list', 'cell', 'column_header',\n",
      "                                             'projected_row_header', 'spanning', 'row_header']},\n",
      " 'TF': {'CELL': {'FILTER': None, 'WEIGHTS': 'cell/model-1800000_inf_only.data-00000-of-00001'},\n",
      "        'ITEM': {'FILTER': None, 'WEIGHTS': 'item/model-1620000_inf_only.data-00000-of-00001'},\n",
      "        'LAYOUT': {'FILTER': None, 'WEIGHTS': 'layout/model-800000_inf_only.data-00000-of-00001'}},\n",
      " 'USE_LAYOUT': True,\n",
      " 'USE_OCR': True,\n",
      " 'USE_PDF_MINER': True,\n",
      " 'USE_TABLE_REFINEMENT': True,\n",
      " 'USE_TABLE_SEGMENTATION': True,\n",
      " 'WORD_MATCHING': {'MAX_PARENT_ONLY': True,\n",
      "                   'PARENTAL_CATEGORIES': ['text', 'title', 'list', 'cell', 'column_header',\n",
      "                                           'projected_row_header', 'spanning', 'row_header'],\n",
      "                   'RULE': 'ioa',\n",
      "                   'THRESHOLD': 0.6}}\u001b[0m\n",
      "\u001b[32m[0530 15:14.01 @model.py:970]\u001b[0m  \u001b[4m\u001b[5m\u001b[31mERR\u001b[0m  \u001b[97mFile downloaded from deepdoctection/d2_casc_rcnn_X_32xd4_50_FPN_GN_2FC_publaynet_inference_only does not match the expected size! You may have downloaded a broken file, or the upstream may have modified the file.\u001b[0m\n",
      "\u001b[32m[0530 15:14.02 @model.py:970]\u001b[0m  \u001b[4m\u001b[5m\u001b[31mERR\u001b[0m  \u001b[97mFile downloaded from deepdoctection/d2_casc_rcnn_X_32xd4_50_FPN_GN_2FC_pubtabnet_rc_inference_only does not match the expected size! You may have downloaded a broken file, or the upstream may have modified the file.\u001b[0m\n",
      "\u001b[32m[0530 15:14.03 @model.py:970]\u001b[0m  \u001b[4m\u001b[5m\u001b[31mERR\u001b[0m  \u001b[97mFile downloaded from deepdoctection/d2_casc_rcnn_X_32xd4_50_FPN_GN_2FC_pubtabnet_c_inference_only does not match the expected size! You may have downloaded a broken file, or the upstream may have modified the file.\u001b[0m\n"
     ]
    }
   ],
   "source": [
    "import PDFair.PDFair\n",
    "import PDFair.eval\n",
    "import PDFair.visualize\n",
    "import types\n"
   ]
  },
  {
   "cell_type": "code",
   "execution_count": 2,
   "metadata": {},
   "outputs": [
    {
     "name": "stderr",
     "output_type": "stream",
     "text": [
      "\u001b[32m[0530 15:14.06 @_utils.py:402]\u001b[0m  \u001b[5m\u001b[35mWRN\u001b[0m  \u001b[97mXRef object at 80799 can not be read, some object may be missing\u001b[0m\n",
      "\u001b[32m[0530 15:14.06 @_utils.py:402]\u001b[0m  \u001b[5m\u001b[35mWRN\u001b[0m  \u001b[97mXRef object at 80799 can not be read, some object may be missing\u001b[0m\n",
      "\u001b[32m[0530 15:14.07 @doctectionpipe.py:84]\u001b[0m  \u001b[32mINF\u001b[0m  \u001b[97mProcessing nl.mnre1034.2e-b.2024.520.doc.1_0.pdf\u001b[0m\n",
      "/home/marty/miniconda3/envs/deepdoc2/lib/python3.9/site-packages/torch/nn/modules/module.py:1527: UserWarning: torch.meshgrid: in an upcoming release, it will be required to pass the indexing argument. (Triggered internally at ../aten/src/ATen/native/TensorShape.cpp:3526.)\n",
      "  return forward_call(*args, **kwargs)\n",
      "\u001b[32m[0530 15:14.12 @context.py:126]\u001b[0m  \u001b[32mINF\u001b[0m  \u001b[97mImageLayoutService total: 4.5907 sec.\u001b[0m\n",
      "\u001b[32m[0530 15:14.12 @context.py:126]\u001b[0m  \u001b[32mINF\u001b[0m  \u001b[97mSubImageLayoutService total: 0.0001 sec.\u001b[0m\n",
      "\u001b[32m[0530 15:14.12 @context.py:126]\u001b[0m  \u001b[32mINF\u001b[0m  \u001b[97mSubImageLayoutService total: 0.0001 sec.\u001b[0m\n",
      "\u001b[32m[0530 15:14.12 @context.py:126]\u001b[0m  \u001b[32mINF\u001b[0m  \u001b[97mTableSegmentationService total: 0.0001 sec.\u001b[0m\n",
      "\u001b[32m[0530 15:14.12 @context.py:126]\u001b[0m  \u001b[32mINF\u001b[0m  \u001b[97mTableSegmentationRefinementService total: 0.0 sec.\u001b[0m\n",
      "\u001b[32m[0530 15:14.12 @context.py:126]\u001b[0m  \u001b[32mINF\u001b[0m  \u001b[97mTextExtractionService total: 0.1681 sec.\u001b[0m\n",
      "\u001b[32m[0530 15:14.12 @context.py:126]\u001b[0m  \u001b[32mINF\u001b[0m  \u001b[97mTextExtractionService total: 0.0002 sec.\u001b[0m\n",
      "\u001b[32m[0530 15:14.12 @context.py:126]\u001b[0m  \u001b[32mINF\u001b[0m  \u001b[97mMatchingService total: 0.0034 sec.\u001b[0m\n",
      "\u001b[32m[0530 15:14.12 @context.py:126]\u001b[0m  \u001b[32mINF\u001b[0m  \u001b[97mTextOrderService total: 0.026 sec.\u001b[0m\n"
     ]
    }
   ],
   "source": [
    "path = \"BeslisnotaPDFs/nl.mnre1034.2e-b.2024.520.doc.1.pdf\"\n",
    "\n",
    "pdf = PDFair.PDFair.Pdf(path)\n",
    "pdf.pdf2doc()\n",
    "pdf.pages[0].detect_header()\n",
    "pdf.pages[0].doc2md(skip_headers=True)\n"
   ]
  },
  {
   "cell_type": "code",
   "execution_count": 3,
   "metadata": {},
   "outputs": [],
   "source": [
    "eval = PDFair.eval.PageEval(pdf.pages[0])\n",
    "eval.pdf2txt()\n",
    "eval.ddt_ngrams()\n",
    "eval.ptt_ngrams()\n",
    "eval.compare_ngrams()\n",
    "\n",
    "eval.ptt.ptttoken_border(4)\n"
   ]
  },
  {
   "cell_type": "code",
   "execution_count": 4,
   "metadata": {},
   "outputs": [],
   "source": [
    "eval.visualize = types.MethodType(PDFair.visualize.visualize, eval)\n",
    "eval.visualize()\n"
   ]
  },
  {
   "cell_type": "code",
   "execution_count": 2,
   "metadata": {},
   "outputs": [],
   "source": [
    "import sys\n",
    "import glob\n",
    "\n",
    "def summary(eval, n=4):\n",
    "        buffer = ''\n",
    "\n",
    "        buffer += f'{eval.page.doc.file_name}\\n'\n",
    "        buffer += f'COUNT | BORDER | NON_BORDER\\n'\n",
    "        for i in range(1, n+1):\n",
    "            buffer += f'   {i:2d} |     {sum(min(t.missing, 1) for t in eval.ptt.tokens if t.border > 0 and t.missing == i):2d} |         {sum(min(t.missing, 1) for t in eval.ptt.tokens if t.border == 0  and t.missing == i):2d}\\n'\n",
    "        buffer += '\\n'\n",
    "\n",
    "        print(buffer)\n",
    "        with open('analysis.txt', 'a') as f:\n",
    "              f.write(buffer)\n"
   ]
  },
  {
   "cell_type": "code",
   "execution_count": 3,
   "metadata": {},
   "outputs": [
    {
     "name": "stderr",
     "output_type": "stream",
     "text": [
      "\u001b[32m[0418 16:08.12 @doctectionpipe.py:84]\u001b[0m  \u001b[32mINF\u001b[0m  \u001b[97mProcessing nl.mnre1010.2e-b.2024.1.doc.1_0.pdf\u001b[0m\n"
     ]
    },
    {
     "name": "stderr",
     "output_type": "stream",
     "text": [
      "/home/marty/miniconda3/envs/PDFair/lib/python3.9/site-packages/torch/nn/modules/module.py:1527: UserWarning: torch.meshgrid: in an upcoming release, it will be required to pass the indexing argument. (Triggered internally at ../aten/src/ATen/native/TensorShape.cpp:3526.)\n",
      "  return forward_call(*args, **kwargs)\n",
      "\u001b[32m[0418 16:08.20 @context.py:126]\u001b[0m  \u001b[32mINF\u001b[0m  \u001b[97mImageLayoutService total: 6.9076 sec.\u001b[0m\n",
      "\u001b[32m[0418 16:08.20 @context.py:126]\u001b[0m  \u001b[32mINF\u001b[0m  \u001b[97mSubImageLayoutService total: 0.0001 sec.\u001b[0m\n",
      "\u001b[32m[0418 16:08.20 @context.py:126]\u001b[0m  \u001b[32mINF\u001b[0m  \u001b[97mSubImageLayoutService total: 0.0001 sec.\u001b[0m\n",
      "\u001b[32m[0418 16:08.20 @context.py:126]\u001b[0m  \u001b[32mINF\u001b[0m  \u001b[97mTableSegmentationService total: 0.0001 sec.\u001b[0m\n",
      "\u001b[32m[0418 16:08.20 @context.py:126]\u001b[0m  \u001b[32mINF\u001b[0m  \u001b[97mTableSegmentationRefinementService total: 0.0001 sec.\u001b[0m\n",
      "\u001b[32m[0418 16:08.20 @context.py:126]\u001b[0m  \u001b[32mINF\u001b[0m  \u001b[97mTextExtractionService total: 0.0814 sec.\u001b[0m\n",
      "\u001b[32m[0418 16:08.20 @context.py:126]\u001b[0m  \u001b[32mINF\u001b[0m  \u001b[97mTextExtractionService total: 0.0001 sec.\u001b[0m\n",
      "\u001b[32m[0418 16:08.20 @context.py:126]\u001b[0m  \u001b[32mINF\u001b[0m  \u001b[97mMatchingService total: 0.0022 sec.\u001b[0m\n",
      "\u001b[32m[0418 16:08.20 @context.py:126]\u001b[0m  \u001b[32mINF\u001b[0m  \u001b[97mTextOrderService total: 0.0081 sec.\u001b[0m\n"
     ]
    },
    {
     "name": "stdout",
     "output_type": "stream",
     "text": [
      "['pdftotext', '/mnt/c/Users/Martijn/Documents/GitHub/PDFair/evaluation/BeslisnotaPDFs/nl.mnre1010.2e-b.2024.1.doc.1.pdf', 'out.txt', '-nopgbrk', '-f', '1', '-l', '1'] failed\n"
     ]
    },
    {
     "name": "stderr",
     "output_type": "stream",
     "text": [
      "\u001b[32m[0418 16:08.23 @doctectionpipe.py:84]\u001b[0m  \u001b[32mINF\u001b[0m  \u001b[97mProcessing nl.mnre1010.2e-b.2024.3.doc.1_0.pdf\u001b[0m\n"
     ]
    },
    {
     "name": "stdout",
     "output_type": "stream",
     "text": [
      "nl.mnre1010.2e-b.2024.1.doc.1_0.pdf\n",
      "COUNT | BORDER | NON_BORDER\n",
      "    1 |      1 |          2\n",
      "    2 |      2 |          0\n",
      "    3 |      3 |          0\n",
      "    4 |      0 |          0\n",
      "\n",
      "\n"
     ]
    },
    {
     "name": "stderr",
     "output_type": "stream",
     "text": [
      "\u001b[32m[0418 16:08.31 @context.py:126]\u001b[0m  \u001b[32mINF\u001b[0m  \u001b[97mImageLayoutService total: 7.244 sec.\u001b[0m\n",
      "\u001b[32m[0418 16:08.31 @context.py:126]\u001b[0m  \u001b[32mINF\u001b[0m  \u001b[97mSubImageLayoutService total: 0.0001 sec.\u001b[0m\n",
      "\u001b[32m[0418 16:08.31 @context.py:126]\u001b[0m  \u001b[32mINF\u001b[0m  \u001b[97mSubImageLayoutService total: 0.0001 sec.\u001b[0m\n",
      "\u001b[32m[0418 16:08.31 @context.py:126]\u001b[0m  \u001b[32mINF\u001b[0m  \u001b[97mTableSegmentationService total: 0.0001 sec.\u001b[0m\n",
      "\u001b[32m[0418 16:08.31 @context.py:126]\u001b[0m  \u001b[32mINF\u001b[0m  \u001b[97mTableSegmentationRefinementService total: 0.0001 sec.\u001b[0m\n",
      "\u001b[32m[0418 16:08.31 @context.py:126]\u001b[0m  \u001b[32mINF\u001b[0m  \u001b[97mTextExtractionService total: 0.0748 sec.\u001b[0m\n",
      "\u001b[32m[0418 16:08.31 @context.py:126]\u001b[0m  \u001b[32mINF\u001b[0m  \u001b[97mTextExtractionService total: 0.0002 sec.\u001b[0m\n",
      "\u001b[32m[0418 16:08.31 @context.py:126]\u001b[0m  \u001b[32mINF\u001b[0m  \u001b[97mMatchingService total: 0.0018 sec.\u001b[0m\n",
      "\u001b[32m[0418 16:08.31 @context.py:126]\u001b[0m  \u001b[32mINF\u001b[0m  \u001b[97mTextOrderService total: 0.0071 sec.\u001b[0m\n"
     ]
    },
    {
     "name": "stdout",
     "output_type": "stream",
     "text": [
      "['pdftotext', '/mnt/c/Users/Martijn/Documents/GitHub/PDFair/evaluation/BeslisnotaPDFs/nl.mnre1010.2e-b.2024.3.doc.1.pdf', 'out.txt', '-nopgbrk', '-f', '1', '-l', '1'] failed\n"
     ]
    },
    {
     "name": "stderr",
     "output_type": "stream",
     "text": [
      "\u001b[32m[0418 16:08.35 @doctectionpipe.py:84]\u001b[0m  \u001b[32mINF\u001b[0m  \u001b[97mProcessing nl.mnre1010.2e-b.2024.24.doc.1_0.pdf\u001b[0m\n"
     ]
    },
    {
     "name": "stdout",
     "output_type": "stream",
     "text": [
      "nl.mnre1010.2e-b.2024.3.doc.1_0.pdf\n",
      "COUNT | BORDER | NON_BORDER\n",
      "    1 |      1 |          2\n",
      "    2 |      2 |          0\n",
      "    3 |      3 |          0\n",
      "    4 |      0 |          0\n",
      "\n",
      "\n"
     ]
    },
    {
     "name": "stderr",
     "output_type": "stream",
     "text": [
      "\u001b[32m[0418 16:08.44 @context.py:126]\u001b[0m  \u001b[32mINF\u001b[0m  \u001b[97mImageLayoutService total: 7.8908 sec.\u001b[0m\n",
      "\u001b[32m[0418 16:08.44 @context.py:126]\u001b[0m  \u001b[32mINF\u001b[0m  \u001b[97mSubImageLayoutService total: 0.0001 sec.\u001b[0m\n",
      "\u001b[32m[0418 16:08.44 @context.py:126]\u001b[0m  \u001b[32mINF\u001b[0m  \u001b[97mSubImageLayoutService total: 0.0001 sec.\u001b[0m\n",
      "\u001b[32m[0418 16:08.44 @context.py:126]\u001b[0m  \u001b[32mINF\u001b[0m  \u001b[97mTableSegmentationService total: 0.0001 sec.\u001b[0m\n",
      "\u001b[32m[0418 16:08.44 @context.py:126]\u001b[0m  \u001b[32mINF\u001b[0m  \u001b[97mTableSegmentationRefinementService total: 0.0001 sec.\u001b[0m\n",
      "\u001b[32m[0418 16:08.44 @context.py:126]\u001b[0m  \u001b[32mINF\u001b[0m  \u001b[97mTextExtractionService total: 0.1067 sec.\u001b[0m\n",
      "\u001b[32m[0418 16:08.44 @context.py:126]\u001b[0m  \u001b[32mINF\u001b[0m  \u001b[97mTextExtractionService total: 0.0004 sec.\u001b[0m\n",
      "\u001b[32m[0418 16:08.44 @context.py:126]\u001b[0m  \u001b[32mINF\u001b[0m  \u001b[97mMatchingService total: 0.0029 sec.\u001b[0m\n",
      "\u001b[32m[0418 16:08.44 @context.py:126]\u001b[0m  \u001b[32mINF\u001b[0m  \u001b[97mTextOrderService total: 0.0144 sec.\u001b[0m\n",
      "\u001b[32m[0418 16:08.47 @doctectionpipe.py:84]\u001b[0m  \u001b[32mINF\u001b[0m  \u001b[97mProcessing nl.mnre1010.2e-b.2024.26.doc.1_0.pdf\u001b[0m\n"
     ]
    },
    {
     "name": "stdout",
     "output_type": "stream",
     "text": [
      "nl.mnre1010.2e-b.2024.24.doc.1_0.pdf\n",
      "COUNT | BORDER | NON_BORDER\n",
      "    1 |      1 |          1\n",
      "    2 |      2 |          0\n",
      "    3 |      2 |          0\n",
      "    4 |      1 |          0\n",
      "\n",
      "\n"
     ]
    },
    {
     "name": "stderr",
     "output_type": "stream",
     "text": [
      "\u001b[32m[0418 16:08.56 @context.py:126]\u001b[0m  \u001b[32mINF\u001b[0m  \u001b[97mImageLayoutService total: 7.6891 sec.\u001b[0m\n",
      "\u001b[32m[0418 16:08.56 @context.py:126]\u001b[0m  \u001b[32mINF\u001b[0m  \u001b[97mSubImageLayoutService total: 0.0001 sec.\u001b[0m\n",
      "\u001b[32m[0418 16:08.56 @context.py:126]\u001b[0m  \u001b[32mINF\u001b[0m  \u001b[97mSubImageLayoutService total: 0.0001 sec.\u001b[0m\n",
      "\u001b[32m[0418 16:08.56 @context.py:126]\u001b[0m  \u001b[32mINF\u001b[0m  \u001b[97mTableSegmentationService total: 0.0001 sec.\u001b[0m\n",
      "\u001b[32m[0418 16:08.56 @context.py:126]\u001b[0m  \u001b[32mINF\u001b[0m  \u001b[97mTableSegmentationRefinementService total: 0.0001 sec.\u001b[0m\n",
      "\u001b[32m[0418 16:08.56 @context.py:126]\u001b[0m  \u001b[32mINF\u001b[0m  \u001b[97mTextExtractionService total: 0.0801 sec.\u001b[0m\n",
      "\u001b[32m[0418 16:08.56 @context.py:126]\u001b[0m  \u001b[32mINF\u001b[0m  \u001b[97mTextExtractionService total: 0.0001 sec.\u001b[0m\n",
      "\u001b[32m[0418 16:08.56 @context.py:126]\u001b[0m  \u001b[32mINF\u001b[0m  \u001b[97mMatchingService total: 0.0021 sec.\u001b[0m\n",
      "\u001b[32m[0418 16:08.56 @context.py:126]\u001b[0m  \u001b[32mINF\u001b[0m  \u001b[97mTextOrderService total: 0.009 sec.\u001b[0m\n",
      "\u001b[32m[0418 16:08.59 @doctectionpipe.py:84]\u001b[0m  \u001b[32mINF\u001b[0m  \u001b[97mProcessing nl.mnre1010.2e-b.2024.45.doc.1_0.pdf\u001b[0m\n"
     ]
    },
    {
     "name": "stdout",
     "output_type": "stream",
     "text": [
      "nl.mnre1010.2e-b.2024.26.doc.1_0.pdf\n",
      "COUNT | BORDER | NON_BORDER\n",
      "    1 |      5 |          3\n",
      "    2 |      5 |          3\n",
      "    3 |      6 |          2\n",
      "    4 |      2 |          1\n",
      "\n",
      "\n"
     ]
    },
    {
     "name": "stderr",
     "output_type": "stream",
     "text": [
      "\u001b[32m[0418 16:09.08 @context.py:126]\u001b[0m  \u001b[32mINF\u001b[0m  \u001b[97mImageLayoutService total: 7.8651 sec.\u001b[0m\n",
      "\u001b[32m[0418 16:09.08 @context.py:126]\u001b[0m  \u001b[32mINF\u001b[0m  \u001b[97mSubImageLayoutService total: 0.0001 sec.\u001b[0m\n",
      "\u001b[32m[0418 16:09.08 @context.py:126]\u001b[0m  \u001b[32mINF\u001b[0m  \u001b[97mSubImageLayoutService total: 0.0001 sec.\u001b[0m\n",
      "\u001b[32m[0418 16:09.08 @context.py:126]\u001b[0m  \u001b[32mINF\u001b[0m  \u001b[97mTableSegmentationService total: 0.0001 sec.\u001b[0m\n",
      "\u001b[32m[0418 16:09.08 @context.py:126]\u001b[0m  \u001b[32mINF\u001b[0m  \u001b[97mTableSegmentationRefinementService total: 0.0001 sec.\u001b[0m\n",
      "\u001b[32m[0418 16:09.08 @context.py:126]\u001b[0m  \u001b[32mINF\u001b[0m  \u001b[97mTextExtractionService total: 0.1367 sec.\u001b[0m\n",
      "\u001b[32m[0418 16:09.08 @context.py:126]\u001b[0m  \u001b[32mINF\u001b[0m  \u001b[97mTextExtractionService total: 0.0003 sec.\u001b[0m\n",
      "\u001b[32m[0418 16:09.08 @context.py:126]\u001b[0m  \u001b[32mINF\u001b[0m  \u001b[97mMatchingService total: 0.0027 sec.\u001b[0m\n",
      "\u001b[32m[0418 16:09.08 @context.py:126]\u001b[0m  \u001b[32mINF\u001b[0m  \u001b[97mTextOrderService total: 0.0211 sec.\u001b[0m\n"
     ]
    },
    {
     "name": "stdout",
     "output_type": "stream",
     "text": [
      "['pdftotext', '/mnt/c/Users/Martijn/Documents/GitHub/PDFair/evaluation/BeslisnotaPDFs/nl.mnre1010.2e-b.2024.45.doc.1.pdf', 'out.txt', '-nopgbrk', '-f', '1', '-l', '1'] failed\n"
     ]
    },
    {
     "name": "stderr",
     "output_type": "stream",
     "text": [
      "\u001b[32m[0418 16:09.12 @doctectionpipe.py:84]\u001b[0m  \u001b[32mINF\u001b[0m  \u001b[97mProcessing nl.mnre1010.2e-b.2024.47.doc.1_0.pdf\u001b[0m\n"
     ]
    },
    {
     "name": "stdout",
     "output_type": "stream",
     "text": [
      "nl.mnre1010.2e-b.2024.45.doc.1_0.pdf\n",
      "COUNT | BORDER | NON_BORDER\n",
      "    1 |      0 |          2\n",
      "    2 |      0 |          2\n",
      "    3 |      0 |          2\n",
      "    4 |      0 |          1\n",
      "\n",
      "\n"
     ]
    },
    {
     "name": "stderr",
     "output_type": "stream",
     "text": [
      "\u001b[32m[0418 16:09.19 @context.py:126]\u001b[0m  \u001b[32mINF\u001b[0m  \u001b[97mImageLayoutService total: 6.8126 sec.\u001b[0m\n",
      "\u001b[32m[0418 16:09.19 @context.py:126]\u001b[0m  \u001b[32mINF\u001b[0m  \u001b[97mSubImageLayoutService total: 0.0001 sec.\u001b[0m\n",
      "\u001b[32m[0418 16:09.19 @context.py:126]\u001b[0m  \u001b[32mINF\u001b[0m  \u001b[97mSubImageLayoutService total: 0.0001 sec.\u001b[0m\n",
      "\u001b[32m[0418 16:09.19 @context.py:126]\u001b[0m  \u001b[32mINF\u001b[0m  \u001b[97mTableSegmentationService total: 0.0001 sec.\u001b[0m\n",
      "\u001b[32m[0418 16:09.19 @context.py:126]\u001b[0m  \u001b[32mINF\u001b[0m  \u001b[97mTableSegmentationRefinementService total: 0.0001 sec.\u001b[0m\n",
      "\u001b[32m[0418 16:09.19 @context.py:126]\u001b[0m  \u001b[32mINF\u001b[0m  \u001b[97mTextExtractionService total: 0.0604 sec.\u001b[0m\n",
      "\u001b[32m[0418 16:09.19 @context.py:126]\u001b[0m  \u001b[32mINF\u001b[0m  \u001b[97mTextExtractionService total: 0.0001 sec.\u001b[0m\n",
      "\u001b[32m[0418 16:09.19 @context.py:126]\u001b[0m  \u001b[32mINF\u001b[0m  \u001b[97mMatchingService total: 0.0009 sec.\u001b[0m\n",
      "\u001b[32m[0418 16:09.19 @context.py:126]\u001b[0m  \u001b[32mINF\u001b[0m  \u001b[97mTextOrderService total: 0.0046 sec.\u001b[0m\n",
      "\u001b[32m[0418 16:09.23 @doctectionpipe.py:84]\u001b[0m  \u001b[32mINF\u001b[0m  \u001b[97mProcessing nl.mnre1018.2e-b.2024.60.doc.1_0.pdf\u001b[0m\n"
     ]
    },
    {
     "name": "stdout",
     "output_type": "stream",
     "text": [
      "nl.mnre1010.2e-b.2024.47.doc.1_0.pdf\n",
      "COUNT | BORDER | NON_BORDER\n",
      "    1 |      1 |          2\n",
      "    2 |      2 |          0\n",
      "    3 |      3 |          0\n",
      "    4 |      0 |          0\n",
      "\n",
      "\n"
     ]
    },
    {
     "name": "stderr",
     "output_type": "stream",
     "text": [
      "\u001b[32m[0418 16:09.30 @context.py:126]\u001b[0m  \u001b[32mINF\u001b[0m  \u001b[97mImageLayoutService total: 6.0004 sec.\u001b[0m\n",
      "\u001b[32m[0418 16:09.30 @context.py:126]\u001b[0m  \u001b[32mINF\u001b[0m  \u001b[97mSubImageLayoutService total: 0.0001 sec.\u001b[0m\n",
      "\u001b[32m[0418 16:09.30 @context.py:126]\u001b[0m  \u001b[32mINF\u001b[0m  \u001b[97mSubImageLayoutService total: 0.0001 sec.\u001b[0m\n",
      "\u001b[32m[0418 16:09.30 @context.py:126]\u001b[0m  \u001b[32mINF\u001b[0m  \u001b[97mTableSegmentationService total: 0.0001 sec.\u001b[0m\n",
      "\u001b[32m[0418 16:09.30 @context.py:126]\u001b[0m  \u001b[32mINF\u001b[0m  \u001b[97mTableSegmentationRefinementService total: 0.0001 sec.\u001b[0m\n",
      "\u001b[32m[0418 16:09.30 @context.py:126]\u001b[0m  \u001b[32mINF\u001b[0m  \u001b[97mTextExtractionService total: 0.1665 sec.\u001b[0m\n",
      "\u001b[32m[0418 16:09.30 @context.py:126]\u001b[0m  \u001b[32mINF\u001b[0m  \u001b[97mTextExtractionService total: 0.0002 sec.\u001b[0m\n",
      "\u001b[32m[0418 16:09.30 @context.py:126]\u001b[0m  \u001b[32mINF\u001b[0m  \u001b[97mMatchingService total: 0.0034 sec.\u001b[0m\n",
      "\u001b[32m[0418 16:09.30 @context.py:126]\u001b[0m  \u001b[32mINF\u001b[0m  \u001b[97mTextOrderService total: 0.0213 sec.\u001b[0m\n",
      "\u001b[32m[0418 16:09.33 @doctectionpipe.py:84]\u001b[0m  \u001b[32mINF\u001b[0m  \u001b[97mProcessing nl.mnre1034.2e-b.2024.14.doc.1_0.pdf\u001b[0m\n"
     ]
    },
    {
     "name": "stdout",
     "output_type": "stream",
     "text": [
      "nl.mnre1018.2e-b.2024.60.doc.1_0.pdf\n",
      "COUNT | BORDER | NON_BORDER\n",
      "    1 |      5 |          1\n",
      "    2 |     10 |          2\n",
      "    3 |     12 |          2\n",
      "    4 |     14 |          0\n",
      "\n",
      "\n"
     ]
    },
    {
     "name": "stderr",
     "output_type": "stream",
     "text": [
      "\u001b[32m[0418 16:09.41 @context.py:126]\u001b[0m  \u001b[32mINF\u001b[0m  \u001b[97mImageLayoutService total: 6.3004 sec.\u001b[0m\n",
      "\u001b[32m[0418 16:09.41 @context.py:126]\u001b[0m  \u001b[32mINF\u001b[0m  \u001b[97mSubImageLayoutService total: 0.0001 sec.\u001b[0m\n",
      "\u001b[32m[0418 16:09.41 @context.py:126]\u001b[0m  \u001b[32mINF\u001b[0m  \u001b[97mSubImageLayoutService total: 0.0001 sec.\u001b[0m\n",
      "\u001b[32m[0418 16:09.41 @context.py:126]\u001b[0m  \u001b[32mINF\u001b[0m  \u001b[97mTableSegmentationService total: 0.0001 sec.\u001b[0m\n",
      "\u001b[32m[0418 16:09.41 @context.py:126]\u001b[0m  \u001b[32mINF\u001b[0m  \u001b[97mTableSegmentationRefinementService total: 0.0001 sec.\u001b[0m\n",
      "\u001b[32m[0418 16:09.41 @context.py:126]\u001b[0m  \u001b[32mINF\u001b[0m  \u001b[97mTextExtractionService total: 0.3897 sec.\u001b[0m\n",
      "\u001b[32m[0418 16:09.41 @context.py:126]\u001b[0m  \u001b[32mINF\u001b[0m  \u001b[97mTextExtractionService total: 0.0003 sec.\u001b[0m\n",
      "\u001b[32m[0418 16:09.41 @context.py:126]\u001b[0m  \u001b[32mINF\u001b[0m  \u001b[97mMatchingService total: 0.0032 sec.\u001b[0m\n",
      "\u001b[32m[0418 16:09.41 @context.py:126]\u001b[0m  \u001b[32mINF\u001b[0m  \u001b[97mTextOrderService total: 0.0264 sec.\u001b[0m\n"
     ]
    },
    {
     "name": "stdout",
     "output_type": "stream",
     "text": [
      "['pdftotext', '/mnt/c/Users/Martijn/Documents/GitHub/PDFair/evaluation/BeslisnotaPDFs/nl.mnre1034.2e-b.2024.14.doc.1.pdf', 'out.txt', '-nopgbrk', '-f', '1', '-l', '1'] failed\n"
     ]
    },
    {
     "name": "stderr",
     "output_type": "stream",
     "text": [
      "\u001b[32m[0418 16:09.45 @doctectionpipe.py:84]\u001b[0m  \u001b[32mINF\u001b[0m  \u001b[97mProcessing nl.mnre1034.2e-b.2024.16.doc.1_0.pdf\u001b[0m\n"
     ]
    },
    {
     "name": "stdout",
     "output_type": "stream",
     "text": [
      "nl.mnre1034.2e-b.2024.14.doc.1_0.pdf\n",
      "COUNT | BORDER | NON_BORDER\n",
      "    1 |      7 |          1\n",
      "    2 |     10 |          1\n",
      "    3 |     12 |          2\n",
      "    4 |      2 |          1\n",
      "\n",
      "\n"
     ]
    },
    {
     "name": "stderr",
     "output_type": "stream",
     "text": [
      "\u001b[32m[0418 16:09.52 @context.py:126]\u001b[0m  \u001b[32mINF\u001b[0m  \u001b[97mImageLayoutService total: 6.2722 sec.\u001b[0m\n",
      "\u001b[32m[0418 16:09.52 @context.py:126]\u001b[0m  \u001b[32mINF\u001b[0m  \u001b[97mSubImageLayoutService total: 0.0001 sec.\u001b[0m\n",
      "\u001b[32m[0418 16:09.52 @context.py:126]\u001b[0m  \u001b[32mINF\u001b[0m  \u001b[97mSubImageLayoutService total: 0.0001 sec.\u001b[0m\n",
      "\u001b[32m[0418 16:09.52 @context.py:126]\u001b[0m  \u001b[32mINF\u001b[0m  \u001b[97mTableSegmentationService total: 0.0001 sec.\u001b[0m\n",
      "\u001b[32m[0418 16:09.52 @context.py:126]\u001b[0m  \u001b[32mINF\u001b[0m  \u001b[97mTableSegmentationRefinementService total: 0.0001 sec.\u001b[0m\n",
      "\u001b[32m[0418 16:09.52 @context.py:126]\u001b[0m  \u001b[32mINF\u001b[0m  \u001b[97mTextExtractionService total: 0.0951 sec.\u001b[0m\n",
      "\u001b[32m[0418 16:09.52 @context.py:126]\u001b[0m  \u001b[32mINF\u001b[0m  \u001b[97mTextExtractionService total: 0.0001 sec.\u001b[0m\n",
      "\u001b[32m[0418 16:09.52 @context.py:126]\u001b[0m  \u001b[32mINF\u001b[0m  \u001b[97mMatchingService total: 0.0019 sec.\u001b[0m\n",
      "\u001b[32m[0418 16:09.52 @context.py:126]\u001b[0m  \u001b[32mINF\u001b[0m  \u001b[97mTextOrderService total: 0.0111 sec.\u001b[0m\n"
     ]
    },
    {
     "name": "stdout",
     "output_type": "stream",
     "text": [
      "['pdftotext', '/mnt/c/Users/Martijn/Documents/GitHub/PDFair/evaluation/BeslisnotaPDFs/nl.mnre1034.2e-b.2024.16.doc.1.pdf', 'out.txt', '-nopgbrk', '-f', '1', '-l', '1'] failed\n"
     ]
    },
    {
     "name": "stderr",
     "output_type": "stream",
     "text": [
      "\u001b[32m[0418 16:09.56 @doctectionpipe.py:84]\u001b[0m  \u001b[32mINF\u001b[0m  \u001b[97mProcessing nl.mnre1034.2e-b.2024.51.doc.1_0.pdf\u001b[0m\n"
     ]
    },
    {
     "name": "stdout",
     "output_type": "stream",
     "text": [
      "nl.mnre1034.2e-b.2024.16.doc.1_0.pdf\n",
      "COUNT | BORDER | NON_BORDER\n",
      "    1 |      3 |          1\n",
      "    2 |      5 |          2\n",
      "    3 |     11 |          3\n",
      "    4 |      5 |          1\n",
      "\n",
      "\n"
     ]
    },
    {
     "name": "stderr",
     "output_type": "stream",
     "text": [
      "\u001b[32m[0418 16:10.03 @context.py:126]\u001b[0m  \u001b[32mINF\u001b[0m  \u001b[97mImageLayoutService total: 6.3913 sec.\u001b[0m\n",
      "\u001b[32m[0418 16:10.03 @context.py:126]\u001b[0m  \u001b[32mINF\u001b[0m  \u001b[97mSubImageLayoutService total: 0.0001 sec.\u001b[0m\n",
      "\u001b[32m[0418 16:10.03 @context.py:126]\u001b[0m  \u001b[32mINF\u001b[0m  \u001b[97mSubImageLayoutService total: 0.0001 sec.\u001b[0m\n",
      "\u001b[32m[0418 16:10.03 @context.py:126]\u001b[0m  \u001b[32mINF\u001b[0m  \u001b[97mTableSegmentationService total: 0.0001 sec.\u001b[0m\n",
      "\u001b[32m[0418 16:10.03 @context.py:126]\u001b[0m  \u001b[32mINF\u001b[0m  \u001b[97mTableSegmentationRefinementService total: 0.0001 sec.\u001b[0m\n",
      "\u001b[32m[0418 16:10.03 @context.py:126]\u001b[0m  \u001b[32mINF\u001b[0m  \u001b[97mTextExtractionService total: 0.0776 sec.\u001b[0m\n",
      "\u001b[32m[0418 16:10.03 @context.py:126]\u001b[0m  \u001b[32mINF\u001b[0m  \u001b[97mTextExtractionService total: 0.0001 sec.\u001b[0m\n",
      "\u001b[32m[0418 16:10.03 @context.py:126]\u001b[0m  \u001b[32mINF\u001b[0m  \u001b[97mMatchingService total: 0.0021 sec.\u001b[0m\n",
      "\u001b[32m[0418 16:10.03 @context.py:126]\u001b[0m  \u001b[32mINF\u001b[0m  \u001b[97mTextOrderService total: 0.0125 sec.\u001b[0m\n"
     ]
    },
    {
     "name": "stdout",
     "output_type": "stream",
     "text": [
      "nl.mnre1034.2e-b.2024.51.doc.1_0.pdf\n",
      "COUNT | BORDER | NON_BORDER\n",
      "    1 |      7 |          5\n",
      "    2 |     10 |          2\n",
      "    3 |     13 |          3\n",
      "    4 |      8 |          1\n",
      "\n",
      "\n"
     ]
    }
   ],
   "source": [
    "files = sorted(glob.glob('BeslisnotaPDFs/*.pdf'), key=len)[0:10]\n",
    "\n",
    "for file in files:\n",
    "    pdf = PDFair.PDFair.Pdf(file)\n",
    "    pdf.pdf2doc()\n",
    "    pdf.pages[0].doc2md()\n",
    "\n",
    "    eval = PDFair.eval.PageEval(pdf.pages[0])\n",
    "    eval.pdf2txt()\n",
    "    eval.ddt_ngrams()\n",
    "    eval.ptt_ngrams()\n",
    "    eval.compare_ngrams()\n",
    "    eval.ptt.ptttoken_border(4)\n",
    "\n",
    "    eval.visualize = types.MethodType(PDFair.visualize.visualize, eval)\n",
    "    eval.visualize()\n",
    "\n",
    "    summary(eval, 4)\n"
   ]
  },
  {
   "cell_type": "code",
   "execution_count": null,
   "metadata": {},
   "outputs": [
    {
     "name": "stdout",
     "output_type": "stream",
     "text": [
      "Aan:\n",
      "MinBZK\n",
      "TER BESLUITVORMING\n",
      "\n",
      "Van:\n",
      "PDGAIVD\n",
      "\n",
      "Nota actief openbaar\n",
      "Ja\n",
      "Datum\n",
      "2 februari 2024\n",
      "\n",
      "nota\n",
      "\n",
      "Ons kenmerk\n",
      "99f7cc83-or1-1.1\n",
      "\n",
      "Beslisnota bij verzoek voor deelname besloten\n",
      "technische briefing inzake uitvoeringstoets Tijdelijke\n",
      "wet\n",
      "\n",
      "Aanleiding\n",
      "De vaste commissie voor Binnenlandse Zaken heeft het verzoek gedaan om een\n",
      "besloten technische briefing over de uitvoeringstoets op de Tijdelijke wet\n",
      "onderzoeken AIVD en MIVD naar landen met een offensief cyberprogramma,\n",
      "bulkdatasets en overige specifieke voorzieningen op 6 februari 2024.\n",
      "Geadviseerd besluit\n",
      "Graag uw akkoord voor deelname van PDGAIVD, mevrouw Simone Smit en haar\n",
      "ondersteunde adviseur aan deze besloten technische briefing.\n",
      "Toelichting\n",
      "\n",
      "Het betreft een besloten technische briefing.\n",
      "\n",
      "Op 6 februari van 17:30-18:30 uur.\n",
      "\n",
      "Het is een gezamenlijke briefing van de AIVD en MIVD.\n",
      "\n",
      "Opgesteld door\n",
      "AIVD/CS\n",
      "Samengewerkt met\n",
      "\n",
      "Bijlagen\n",
      "1\n",
      "Pagina\n",
      "1 van 1\n",
      "\n",
      "\n"
     ]
    }
   ],
   "source": [
    "print(eval.txt)\n"
   ]
  }
 ],
 "metadata": {
  "kernelspec": {
   "display_name": "deepdoc2",
   "language": "python",
   "name": "python3"
  },
  "language_info": {
   "codemirror_mode": {
    "name": "ipython",
    "version": 3
   },
   "file_extension": ".py",
   "mimetype": "text/x-python",
   "name": "python",
   "nbconvert_exporter": "python",
   "pygments_lexer": "ipython3",
   "version": "3.9.7"
  }
 },
 "nbformat": 4,
 "nbformat_minor": 2
}
